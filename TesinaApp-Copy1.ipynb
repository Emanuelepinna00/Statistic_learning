{
 "cells": [
  {
   "cell_type": "markdown",
   "id": "voluntary-hartford",
   "metadata": {},
   "source": [
    "# PROGETTO ESAME APPRENDIMENTO STATISTICO\n",
    "#### Emanuele Pinna matr.296455\n",
    "## Analisi del dataset 'Wine quality'\n",
    "In questo progetto verrà analizzato il dataset 'winequality-red.csv', contenente campioni del vino rosso 'Vinho Verde' del nord del Portogallo.\n",
    "L'obbiettivo è quello di classificare i vari campioni nel dataset secondo la qualità del vino in base ai risultati delle prove chimico-fisiche testate nel campione."
   ]
  },
  {
   "cell_type": "markdown",
   "id": "atmospheric-exercise",
   "metadata": {},
   "source": [
    "<img src='Wine.jpg'/>"
   ]
  },
  {
   "cell_type": "markdown",
   "id": "trained-writer",
   "metadata": {},
   "source": [
    "##### Per prima cosa si proceda con l'importazione del dataset 'winequality-red.csv', contenente campioni del vino rosso 'Vinho Verde' del nord del Portogallo.\n",
    "##### L'obbiettivo è quello di modellizzare (e quindi di predire) la qualità del vino rosso basandosi sui risultati delle prove chimico-fisiche."
   ]
  },
  {
   "cell_type": "code",
   "execution_count": 1,
   "id": "handled-dairy",
   "metadata": {},
   "outputs": [],
   "source": [
    "%matplotlib widget\n",
    "\n",
    "import pandas as pd\n",
    "import numpy as np\n",
    "import matplotlib\n",
    "import matplotlib.pyplot as plt\n",
    "from IPython.display import display\n",
    "import sklearn\n",
    "import FisherDA\n",
    "#import kfda\n",
    "from sklearn.preprocessing import LabelEncoder\n",
    "from sklearn.decomposition import PCA\n",
    "from sklearn.discriminant_analysis import LinearDiscriminantAnalysis as LDA\n",
    "from FisherDA import MultipleFisherDiscriminantAnalysis as FDA\n",
    "from sklearn.svm import LinearSVC\n",
    "from sklearn.model_selection import train_test_split\n",
    "from sklearn import datasets\n",
    "from sklearn.decomposition import KernelPCA as KPCA\n",
    "from sklearn.model_selection import GridSearchCV\n",
    "from sklearn.metrics import f1_score, precision_score, recall_score, confusion_matrix, make_scorer\n",
    "from sklearn.preprocessing import StandardScaler\n",
    "from mpl_toolkits.mplot3d import Axes3D\n",
    "#from kfda import Kfda as KFDA\n",
    "from sklearn.metrics import mean_squared_error\n",
    "from sklearn.preprocessing import StandardScaler\n",
    "import seaborn as sn"
   ]
  },
  {
   "cell_type": "code",
   "execution_count": 2,
   "id": "sustained-field",
   "metadata": {},
   "outputs": [],
   "source": [
    "import pandas as pd\n",
    "import numpy as np \n",
    "import matplotlib.pyplot as plt\n",
    "\n",
    "data = pd.read_csv('winequality-red.csv', sep=';')"
   ]
  },
  {
   "cell_type": "markdown",
   "id": "auburn-industry",
   "metadata": {},
   "source": [
    "##### Si vedano ora le prime righe del dataset."
   ]
  },
  {
   "cell_type": "code",
   "execution_count": 3,
   "id": "northern-range",
   "metadata": {},
   "outputs": [
    {
     "data": {
      "text/html": [
       "<div>\n",
       "<style scoped>\n",
       "    .dataframe tbody tr th:only-of-type {\n",
       "        vertical-align: middle;\n",
       "    }\n",
       "\n",
       "    .dataframe tbody tr th {\n",
       "        vertical-align: top;\n",
       "    }\n",
       "\n",
       "    .dataframe thead th {\n",
       "        text-align: right;\n",
       "    }\n",
       "</style>\n",
       "<table border=\"1\" class=\"dataframe\">\n",
       "  <thead>\n",
       "    <tr style=\"text-align: right;\">\n",
       "      <th></th>\n",
       "      <th>fixed acidity</th>\n",
       "      <th>volatile acidity</th>\n",
       "      <th>citric acid</th>\n",
       "      <th>residual sugar</th>\n",
       "      <th>chlorides</th>\n",
       "      <th>free sulfur dioxide</th>\n",
       "      <th>total sulfur dioxide</th>\n",
       "      <th>density</th>\n",
       "      <th>pH</th>\n",
       "      <th>sulphates</th>\n",
       "      <th>alcohol</th>\n",
       "      <th>quality</th>\n",
       "    </tr>\n",
       "  </thead>\n",
       "  <tbody>\n",
       "    <tr>\n",
       "      <th>0</th>\n",
       "      <td>7.4</td>\n",
       "      <td>0.70</td>\n",
       "      <td>0.00</td>\n",
       "      <td>1.9</td>\n",
       "      <td>0.076</td>\n",
       "      <td>11.0</td>\n",
       "      <td>34.0</td>\n",
       "      <td>0.9978</td>\n",
       "      <td>3.51</td>\n",
       "      <td>0.56</td>\n",
       "      <td>9.4</td>\n",
       "      <td>5</td>\n",
       "    </tr>\n",
       "    <tr>\n",
       "      <th>1</th>\n",
       "      <td>7.8</td>\n",
       "      <td>0.88</td>\n",
       "      <td>0.00</td>\n",
       "      <td>2.6</td>\n",
       "      <td>0.098</td>\n",
       "      <td>25.0</td>\n",
       "      <td>67.0</td>\n",
       "      <td>0.9968</td>\n",
       "      <td>3.20</td>\n",
       "      <td>0.68</td>\n",
       "      <td>9.8</td>\n",
       "      <td>5</td>\n",
       "    </tr>\n",
       "    <tr>\n",
       "      <th>2</th>\n",
       "      <td>7.8</td>\n",
       "      <td>0.76</td>\n",
       "      <td>0.04</td>\n",
       "      <td>2.3</td>\n",
       "      <td>0.092</td>\n",
       "      <td>15.0</td>\n",
       "      <td>54.0</td>\n",
       "      <td>0.9970</td>\n",
       "      <td>3.26</td>\n",
       "      <td>0.65</td>\n",
       "      <td>9.8</td>\n",
       "      <td>5</td>\n",
       "    </tr>\n",
       "    <tr>\n",
       "      <th>3</th>\n",
       "      <td>11.2</td>\n",
       "      <td>0.28</td>\n",
       "      <td>0.56</td>\n",
       "      <td>1.9</td>\n",
       "      <td>0.075</td>\n",
       "      <td>17.0</td>\n",
       "      <td>60.0</td>\n",
       "      <td>0.9980</td>\n",
       "      <td>3.16</td>\n",
       "      <td>0.58</td>\n",
       "      <td>9.8</td>\n",
       "      <td>6</td>\n",
       "    </tr>\n",
       "    <tr>\n",
       "      <th>4</th>\n",
       "      <td>7.4</td>\n",
       "      <td>0.70</td>\n",
       "      <td>0.00</td>\n",
       "      <td>1.9</td>\n",
       "      <td>0.076</td>\n",
       "      <td>11.0</td>\n",
       "      <td>34.0</td>\n",
       "      <td>0.9978</td>\n",
       "      <td>3.51</td>\n",
       "      <td>0.56</td>\n",
       "      <td>9.4</td>\n",
       "      <td>5</td>\n",
       "    </tr>\n",
       "  </tbody>\n",
       "</table>\n",
       "</div>"
      ],
      "text/plain": [
       "   fixed acidity  volatile acidity  citric acid  residual sugar  chlorides  \\\n",
       "0            7.4              0.70         0.00             1.9      0.076   \n",
       "1            7.8              0.88         0.00             2.6      0.098   \n",
       "2            7.8              0.76         0.04             2.3      0.092   \n",
       "3           11.2              0.28         0.56             1.9      0.075   \n",
       "4            7.4              0.70         0.00             1.9      0.076   \n",
       "\n",
       "   free sulfur dioxide  total sulfur dioxide  density    pH  sulphates  \\\n",
       "0                 11.0                  34.0   0.9978  3.51       0.56   \n",
       "1                 25.0                  67.0   0.9968  3.20       0.68   \n",
       "2                 15.0                  54.0   0.9970  3.26       0.65   \n",
       "3                 17.0                  60.0   0.9980  3.16       0.58   \n",
       "4                 11.0                  34.0   0.9978  3.51       0.56   \n",
       "\n",
       "   alcohol  quality  \n",
       "0      9.4        5  \n",
       "1      9.8        5  \n",
       "2      9.8        5  \n",
       "3      9.8        6  \n",
       "4      9.4        5  "
      ]
     },
     "execution_count": 3,
     "metadata": {},
     "output_type": "execute_result"
    }
   ],
   "source": [
    "data.head()"
   ]
  },
  {
   "cell_type": "markdown",
   "id": "favorite-sight",
   "metadata": {},
   "source": [
    "<img src='test.png' style='width:1000px'/>"
   ]
  },
  {
   "cell_type": "markdown",
   "id": "impaired-upgrade",
   "metadata": {},
   "source": [
    "##### Questo dataset è composto da 1599 istanze e 12 features che rappresentano i dati chimico-fisici raccolti dai test.\n",
    "##### e la dimensione del dataset"
   ]
  },
  {
   "cell_type": "code",
   "execution_count": 4,
   "id": "thorough-cooler",
   "metadata": {},
   "outputs": [
    {
     "data": {
      "text/plain": [
       "(1599, 12)"
      ]
     },
     "execution_count": 4,
     "metadata": {},
     "output_type": "execute_result"
    }
   ],
   "source": [
    "data.shape"
   ]
  },
  {
   "cell_type": "markdown",
   "id": "common-router",
   "metadata": {},
   "source": [
    "##### Si controllino ora quali in quali colonne delle features si hanno valori mancanti."
   ]
  },
  {
   "cell_type": "code",
   "execution_count": 5,
   "id": "inner-steering",
   "metadata": {},
   "outputs": [
    {
     "name": "stdout",
     "output_type": "stream",
     "text": [
      "<class 'pandas.core.frame.DataFrame'>\n",
      "RangeIndex: 1599 entries, 0 to 1598\n",
      "Data columns (total 12 columns):\n",
      " #   Column                Non-Null Count  Dtype  \n",
      "---  ------                --------------  -----  \n",
      " 0   fixed acidity         1599 non-null   float64\n",
      " 1   volatile acidity      1599 non-null   float64\n",
      " 2   citric acid           1599 non-null   float64\n",
      " 3   residual sugar        1599 non-null   float64\n",
      " 4   chlorides             1599 non-null   float64\n",
      " 5   free sulfur dioxide   1599 non-null   float64\n",
      " 6   total sulfur dioxide  1599 non-null   float64\n",
      " 7   density               1599 non-null   float64\n",
      " 8   pH                    1599 non-null   float64\n",
      " 9   sulphates             1599 non-null   float64\n",
      " 10  alcohol               1599 non-null   float64\n",
      " 11  quality               1599 non-null   int64  \n",
      "dtypes: float64(11), int64(1)\n",
      "memory usage: 150.0 KB\n"
     ]
    }
   ],
   "source": [
    "data.info()"
   ]
  },
  {
   "cell_type": "markdown",
   "id": "comfortable-tension",
   "metadata": {},
   "source": [
    "##### Come si può notare dalla tabella sottostante non compaiono missing values, in quanto la riga corrispondente al count presenta solo il valore 1599 (numero delle istanze totali del dataset."
   ]
  },
  {
   "cell_type": "code",
   "execution_count": 6,
   "id": "affiliated-fabric",
   "metadata": {},
   "outputs": [
    {
     "data": {
      "text/html": [
       "<div>\n",
       "<style scoped>\n",
       "    .dataframe tbody tr th:only-of-type {\n",
       "        vertical-align: middle;\n",
       "    }\n",
       "\n",
       "    .dataframe tbody tr th {\n",
       "        vertical-align: top;\n",
       "    }\n",
       "\n",
       "    .dataframe thead th {\n",
       "        text-align: right;\n",
       "    }\n",
       "</style>\n",
       "<table border=\"1\" class=\"dataframe\">\n",
       "  <thead>\n",
       "    <tr style=\"text-align: right;\">\n",
       "      <th></th>\n",
       "      <th>fixed acidity</th>\n",
       "      <th>volatile acidity</th>\n",
       "      <th>citric acid</th>\n",
       "      <th>residual sugar</th>\n",
       "      <th>chlorides</th>\n",
       "      <th>free sulfur dioxide</th>\n",
       "      <th>total sulfur dioxide</th>\n",
       "      <th>density</th>\n",
       "      <th>pH</th>\n",
       "      <th>sulphates</th>\n",
       "      <th>alcohol</th>\n",
       "    </tr>\n",
       "  </thead>\n",
       "  <tbody>\n",
       "    <tr>\n",
       "      <th>count</th>\n",
       "      <td>1599.000000</td>\n",
       "      <td>1599.000000</td>\n",
       "      <td>1599.000000</td>\n",
       "      <td>1599.000000</td>\n",
       "      <td>1599.000000</td>\n",
       "      <td>1599.000000</td>\n",
       "      <td>1599.000000</td>\n",
       "      <td>1599.000000</td>\n",
       "      <td>1599.000000</td>\n",
       "      <td>1599.000000</td>\n",
       "      <td>1599.000000</td>\n",
       "    </tr>\n",
       "    <tr>\n",
       "      <th>mean</th>\n",
       "      <td>8.319637</td>\n",
       "      <td>0.527821</td>\n",
       "      <td>0.270976</td>\n",
       "      <td>2.538806</td>\n",
       "      <td>0.087467</td>\n",
       "      <td>15.874922</td>\n",
       "      <td>46.467792</td>\n",
       "      <td>0.996747</td>\n",
       "      <td>3.311113</td>\n",
       "      <td>0.658149</td>\n",
       "      <td>10.422983</td>\n",
       "    </tr>\n",
       "    <tr>\n",
       "      <th>std</th>\n",
       "      <td>1.741096</td>\n",
       "      <td>0.179060</td>\n",
       "      <td>0.194801</td>\n",
       "      <td>1.409928</td>\n",
       "      <td>0.047065</td>\n",
       "      <td>10.460157</td>\n",
       "      <td>32.895324</td>\n",
       "      <td>0.001887</td>\n",
       "      <td>0.154386</td>\n",
       "      <td>0.169507</td>\n",
       "      <td>1.065668</td>\n",
       "    </tr>\n",
       "    <tr>\n",
       "      <th>min</th>\n",
       "      <td>4.600000</td>\n",
       "      <td>0.120000</td>\n",
       "      <td>0.000000</td>\n",
       "      <td>0.900000</td>\n",
       "      <td>0.012000</td>\n",
       "      <td>1.000000</td>\n",
       "      <td>6.000000</td>\n",
       "      <td>0.990070</td>\n",
       "      <td>2.740000</td>\n",
       "      <td>0.330000</td>\n",
       "      <td>8.400000</td>\n",
       "    </tr>\n",
       "    <tr>\n",
       "      <th>25%</th>\n",
       "      <td>7.100000</td>\n",
       "      <td>0.390000</td>\n",
       "      <td>0.090000</td>\n",
       "      <td>1.900000</td>\n",
       "      <td>0.070000</td>\n",
       "      <td>7.000000</td>\n",
       "      <td>22.000000</td>\n",
       "      <td>0.995600</td>\n",
       "      <td>3.210000</td>\n",
       "      <td>0.550000</td>\n",
       "      <td>9.500000</td>\n",
       "    </tr>\n",
       "    <tr>\n",
       "      <th>50%</th>\n",
       "      <td>7.900000</td>\n",
       "      <td>0.520000</td>\n",
       "      <td>0.260000</td>\n",
       "      <td>2.200000</td>\n",
       "      <td>0.079000</td>\n",
       "      <td>14.000000</td>\n",
       "      <td>38.000000</td>\n",
       "      <td>0.996750</td>\n",
       "      <td>3.310000</td>\n",
       "      <td>0.620000</td>\n",
       "      <td>10.200000</td>\n",
       "    </tr>\n",
       "    <tr>\n",
       "      <th>75%</th>\n",
       "      <td>9.200000</td>\n",
       "      <td>0.640000</td>\n",
       "      <td>0.420000</td>\n",
       "      <td>2.600000</td>\n",
       "      <td>0.090000</td>\n",
       "      <td>21.000000</td>\n",
       "      <td>62.000000</td>\n",
       "      <td>0.997835</td>\n",
       "      <td>3.400000</td>\n",
       "      <td>0.730000</td>\n",
       "      <td>11.100000</td>\n",
       "    </tr>\n",
       "    <tr>\n",
       "      <th>max</th>\n",
       "      <td>15.900000</td>\n",
       "      <td>1.580000</td>\n",
       "      <td>1.000000</td>\n",
       "      <td>15.500000</td>\n",
       "      <td>0.611000</td>\n",
       "      <td>72.000000</td>\n",
       "      <td>289.000000</td>\n",
       "      <td>1.003690</td>\n",
       "      <td>4.010000</td>\n",
       "      <td>2.000000</td>\n",
       "      <td>14.900000</td>\n",
       "    </tr>\n",
       "  </tbody>\n",
       "</table>\n",
       "</div>"
      ],
      "text/plain": [
       "       fixed acidity  volatile acidity  citric acid  residual sugar  \\\n",
       "count    1599.000000       1599.000000  1599.000000     1599.000000   \n",
       "mean        8.319637          0.527821     0.270976        2.538806   \n",
       "std         1.741096          0.179060     0.194801        1.409928   \n",
       "min         4.600000          0.120000     0.000000        0.900000   \n",
       "25%         7.100000          0.390000     0.090000        1.900000   \n",
       "50%         7.900000          0.520000     0.260000        2.200000   \n",
       "75%         9.200000          0.640000     0.420000        2.600000   \n",
       "max        15.900000          1.580000     1.000000       15.500000   \n",
       "\n",
       "         chlorides  free sulfur dioxide  total sulfur dioxide      density  \\\n",
       "count  1599.000000          1599.000000           1599.000000  1599.000000   \n",
       "mean      0.087467            15.874922             46.467792     0.996747   \n",
       "std       0.047065            10.460157             32.895324     0.001887   \n",
       "min       0.012000             1.000000              6.000000     0.990070   \n",
       "25%       0.070000             7.000000             22.000000     0.995600   \n",
       "50%       0.079000            14.000000             38.000000     0.996750   \n",
       "75%       0.090000            21.000000             62.000000     0.997835   \n",
       "max       0.611000            72.000000            289.000000     1.003690   \n",
       "\n",
       "                pH    sulphates      alcohol  \n",
       "count  1599.000000  1599.000000  1599.000000  \n",
       "mean      3.311113     0.658149    10.422983  \n",
       "std       0.154386     0.169507     1.065668  \n",
       "min       2.740000     0.330000     8.400000  \n",
       "25%       3.210000     0.550000     9.500000  \n",
       "50%       3.310000     0.620000    10.200000  \n",
       "75%       3.400000     0.730000    11.100000  \n",
       "max       4.010000     2.000000    14.900000  "
      ]
     },
     "execution_count": 6,
     "metadata": {},
     "output_type": "execute_result"
    }
   ],
   "source": [
    "# NON CI SONO MISSING VALUES\n",
    "data.iloc[:,:-1].describe()"
   ]
  },
  {
   "cell_type": "markdown",
   "id": "duplicate-custody",
   "metadata": {},
   "source": [
    "##### vedendo ora la distribuzione delle classi della qualità si nota che le classi sono molto disomogenee e addirittura mancano 5 classi di qualità (0,1,2,9,10)"
   ]
  },
  {
   "cell_type": "code",
   "execution_count": 7,
   "id": "prerequisite-alias",
   "metadata": {},
   "outputs": [
    {
     "name": "stdout",
     "output_type": "stream",
     "text": [
      "5    681\n",
      "6    638\n",
      "7    199\n",
      "4     53\n",
      "8     18\n",
      "3     10\n",
      "Name: quality, dtype: int64\n"
     ]
    }
   ],
   "source": [
    "target_vc = data['quality'].value_counts()\n",
    "print(target_vc)"
   ]
  },
  {
   "cell_type": "code",
   "execution_count": 8,
   "id": "failing-middle",
   "metadata": {},
   "outputs": [
    {
     "data": {
      "text/html": [
       "<div>\n",
       "<style scoped>\n",
       "    .dataframe tbody tr th:only-of-type {\n",
       "        vertical-align: middle;\n",
       "    }\n",
       "\n",
       "    .dataframe tbody tr th {\n",
       "        vertical-align: top;\n",
       "    }\n",
       "\n",
       "    .dataframe thead th {\n",
       "        text-align: right;\n",
       "    }\n",
       "</style>\n",
       "<table border=\"1\" class=\"dataframe\">\n",
       "  <thead>\n",
       "    <tr style=\"text-align: right;\">\n",
       "      <th></th>\n",
       "      <th>counts</th>\n",
       "      <th>freq.</th>\n",
       "    </tr>\n",
       "    <tr>\n",
       "      <th>quality</th>\n",
       "      <th></th>\n",
       "      <th></th>\n",
       "    </tr>\n",
       "  </thead>\n",
       "  <tbody>\n",
       "    <tr>\n",
       "      <th>5</th>\n",
       "      <td>681</td>\n",
       "      <td>0.425891</td>\n",
       "    </tr>\n",
       "    <tr>\n",
       "      <th>6</th>\n",
       "      <td>638</td>\n",
       "      <td>0.398999</td>\n",
       "    </tr>\n",
       "    <tr>\n",
       "      <th>7</th>\n",
       "      <td>199</td>\n",
       "      <td>0.124453</td>\n",
       "    </tr>\n",
       "    <tr>\n",
       "      <th>4</th>\n",
       "      <td>53</td>\n",
       "      <td>0.033146</td>\n",
       "    </tr>\n",
       "    <tr>\n",
       "      <th>8</th>\n",
       "      <td>18</td>\n",
       "      <td>0.011257</td>\n",
       "    </tr>\n",
       "    <tr>\n",
       "      <th>3</th>\n",
       "      <td>10</td>\n",
       "      <td>0.006254</td>\n",
       "    </tr>\n",
       "  </tbody>\n",
       "</table>\n",
       "</div>"
      ],
      "text/plain": [
       "         counts     freq.\n",
       "quality                  \n",
       "5           681  0.425891\n",
       "6           638  0.398999\n",
       "7           199  0.124453\n",
       "4            53  0.033146\n",
       "8            18  0.011257\n",
       "3            10  0.006254"
      ]
     },
     "execution_count": 8,
     "metadata": {},
     "output_type": "execute_result"
    }
   ],
   "source": [
    "S,T = data.shape\n",
    "qual_freq = pd.concat([data['quality'].value_counts(), data['quality'].value_counts()/S], axis=1)\n",
    "qual_freq.columns = ['counts', 'freq.']\n",
    "qual_freq.index.name = 'quality'\n",
    "\n",
    "qual_freq"
   ]
  },
  {
   "cell_type": "markdown",
   "id": "exact-single",
   "metadata": {},
   "source": [
    "##### di seguito vi è il plot del numero di istanze per ogni qualità"
   ]
  },
  {
   "cell_type": "code",
   "execution_count": 9,
   "id": "worst-maker",
   "metadata": {},
   "outputs": [
    {
     "data": {
      "application/vnd.jupyter.widget-view+json": {
       "model_id": "14c4f91c0a2c4530a69a2d9227e40c30",
       "version_major": 2,
       "version_minor": 0
      },
      "text/plain": [
       "Canvas(toolbar=Toolbar(toolitems=[('Home', 'Reset original view', 'home', 'home'), ('Back', 'Back to previous …"
      ]
     },
     "metadata": {},
     "output_type": "display_data"
    }
   ],
   "source": [
    "qual_counts = data['quality'].value_counts()\n",
    "\n",
    "plt.figure()\n",
    "plt.bar(np.arange(len(qual_counts.values)), qual_counts.values)\n",
    "plt.xticks(ticks=np.arange(len(qual_counts.values)), \n",
    "           labels=qual_counts.index.to_list(),\n",
    "           rotation=15)\n",
    "plt.title('Quality DISTRIBUTION')\n",
    "plt.grid()\n",
    "plt.show()"
   ]
  },
  {
   "cell_type": "code",
   "execution_count": 10,
   "id": "delayed-grain",
   "metadata": {},
   "outputs": [],
   "source": [
    "#plt.figure(figsize = [10,4])\n",
    "#color = (0.2, 0.4, 0.6, 0.6)\n",
    "#target_vc.plot(kind = 'barh', color=color)\n",
    "#plt.title('QUALITY VALUE COUNTS')\n",
    "#plt.xlabel('counts')\n",
    "#plt.ylabel('quality')\n",
    "#plt.show()"
   ]
  },
  {
   "cell_type": "code",
   "execution_count": 11,
   "id": "occasional-highland",
   "metadata": {},
   "outputs": [
    {
     "data": {
      "application/vnd.jupyter.widget-view+json": {
       "model_id": "7241c7eb733247acb2a6da18df53a73a",
       "version_major": 2,
       "version_minor": 0
      },
      "text/plain": [
       "Canvas(toolbar=Toolbar(toolitems=[('Home', 'Reset original view', 'home', 'home'), ('Back', 'Back to previous …"
      ]
     },
     "metadata": {},
     "output_type": "display_data"
    }
   ],
   "source": [
    "plt.figure(figsize = (12,9))\n",
    "corrMatrix = data.iloc[:,:-1].corr()\n",
    "sn.heatmap(corrMatrix, annot=True)\n",
    "plt.show()"
   ]
  },
  {
   "cell_type": "markdown",
   "id": "intimate-mexico",
   "metadata": {},
   "source": [
    "##### Si osserva che le classi non sono composte dallo stesso numero di campioni\n",
    "##### Nella creazione di training set e test set per gli algoritmi di classificazione\n",
    "##### bisognera uniformare il numero di campioni per classe.\n",
    "\n",
    "##### Si veda ora la distribuzione dei valori all'interno di ciascuna feature."
   ]
  },
  {
   "cell_type": "code",
   "execution_count": 48,
   "id": "accessible-corps",
   "metadata": {},
   "outputs": [],
   "source": [
    "from sklearn.model_selection import train_test_split\n",
    "X_train, X_test, y_train, y_test = train_test_split(data.iloc[:,:-1],list(data['quality']),test_size = 0.33, random_state = 7, shuffle = True, stratify = list(data['quality']))"
   ]
  },
  {
   "cell_type": "markdown",
   "id": "monetary-police",
   "metadata": {},
   "source": [
    "##### dai plot è immediato osservare che non ci sono outliers, tutti i valori per ogni colonna sembrano ben distribuiti\n",
    "\n",
    "##### Si faccia ora un riscalamento dei dati."
   ]
  },
  {
   "cell_type": "code",
   "execution_count": 52,
   "id": "interstate-seller",
   "metadata": {},
   "outputs": [
    {
     "data": {
      "application/vnd.jupyter.widget-view+json": {
       "model_id": "9fec62ee915b48f1aae758e2860b1784",
       "version_major": 2,
       "version_minor": 0
      },
      "text/plain": [
       "Canvas(toolbar=Toolbar(toolitems=[('Home', 'Reset original view', 'home', 'home'), ('Back', 'Back to previous …"
      ]
     },
     "metadata": {},
     "output_type": "display_data"
    }
   ],
   "source": [
    "# CONTROLLO RISCALAMENTO DATI\n",
    "plt.figure(figsize = [15,4])\n",
    "for col in X_train.columns[0:-1]:\n",
    "    plt.hist(X_train[col], bins=20, alpha = 0.5)\n",
    "    plt.xscale('linear')\n",
    "    plt.title('DISTRIBUTIONS')\n",
    "    plt.xlabel('values')\n",
    "    plt.ylabel('samples per bin')\n",
    "plt.legend(X_train.columns, loc ='right')\n",
    "plt.show()"
   ]
  },
  {
   "cell_type": "markdown",
   "id": "viral-madagascar",
   "metadata": {},
   "source": [
    "##### dal precedente grafico si può notare che i valori delle features non sono riscalati in quanto vi è una grande escursione tra i valori delle stesse.\n",
    "\n",
    "##### Per ovviare questo problema si riscalino tutti i valori delle feature attraverso la funzione di scikit-learn 'MinMaxScaler'."
   ]
  },
  {
   "cell_type": "code",
   "execution_count": 14,
   "id": "proved-fusion",
   "metadata": {},
   "outputs": [
    {
     "data": {
      "text/html": [
       "<div>\n",
       "<style scoped>\n",
       "    .dataframe tbody tr th:only-of-type {\n",
       "        vertical-align: middle;\n",
       "    }\n",
       "\n",
       "    .dataframe tbody tr th {\n",
       "        vertical-align: top;\n",
       "    }\n",
       "\n",
       "    .dataframe thead th {\n",
       "        text-align: right;\n",
       "    }\n",
       "</style>\n",
       "<table border=\"1\" class=\"dataframe\">\n",
       "  <thead>\n",
       "    <tr style=\"text-align: right;\">\n",
       "      <th></th>\n",
       "      <th>fixed acidity</th>\n",
       "      <th>volatile acidity</th>\n",
       "      <th>citric acid</th>\n",
       "      <th>residual sugar</th>\n",
       "      <th>chlorides</th>\n",
       "      <th>free sulfur dioxide</th>\n",
       "      <th>total sulfur dioxide</th>\n",
       "      <th>density</th>\n",
       "      <th>pH</th>\n",
       "      <th>sulphates</th>\n",
       "      <th>alcohol</th>\n",
       "      <th>quality</th>\n",
       "    </tr>\n",
       "  </thead>\n",
       "  <tbody>\n",
       "    <tr>\n",
       "      <th>0</th>\n",
       "      <td>0.247788</td>\n",
       "      <td>0.397260</td>\n",
       "      <td>0.00</td>\n",
       "      <td>0.068493</td>\n",
       "      <td>0.106845</td>\n",
       "      <td>0.140845</td>\n",
       "      <td>0.098940</td>\n",
       "      <td>0.567548</td>\n",
       "      <td>0.606299</td>\n",
       "      <td>0.137725</td>\n",
       "      <td>0.153846</td>\n",
       "      <td>5</td>\n",
       "    </tr>\n",
       "    <tr>\n",
       "      <th>1</th>\n",
       "      <td>0.283186</td>\n",
       "      <td>0.520548</td>\n",
       "      <td>0.00</td>\n",
       "      <td>0.116438</td>\n",
       "      <td>0.143573</td>\n",
       "      <td>0.338028</td>\n",
       "      <td>0.215548</td>\n",
       "      <td>0.494126</td>\n",
       "      <td>0.362205</td>\n",
       "      <td>0.209581</td>\n",
       "      <td>0.215385</td>\n",
       "      <td>5</td>\n",
       "    </tr>\n",
       "    <tr>\n",
       "      <th>2</th>\n",
       "      <td>0.283186</td>\n",
       "      <td>0.438356</td>\n",
       "      <td>0.04</td>\n",
       "      <td>0.095890</td>\n",
       "      <td>0.133556</td>\n",
       "      <td>0.197183</td>\n",
       "      <td>0.169611</td>\n",
       "      <td>0.508811</td>\n",
       "      <td>0.409449</td>\n",
       "      <td>0.191617</td>\n",
       "      <td>0.215385</td>\n",
       "      <td>5</td>\n",
       "    </tr>\n",
       "    <tr>\n",
       "      <th>3</th>\n",
       "      <td>0.584071</td>\n",
       "      <td>0.109589</td>\n",
       "      <td>0.56</td>\n",
       "      <td>0.068493</td>\n",
       "      <td>0.105175</td>\n",
       "      <td>0.225352</td>\n",
       "      <td>0.190813</td>\n",
       "      <td>0.582232</td>\n",
       "      <td>0.330709</td>\n",
       "      <td>0.149701</td>\n",
       "      <td>0.215385</td>\n",
       "      <td>6</td>\n",
       "    </tr>\n",
       "    <tr>\n",
       "      <th>4</th>\n",
       "      <td>0.247788</td>\n",
       "      <td>0.397260</td>\n",
       "      <td>0.00</td>\n",
       "      <td>0.068493</td>\n",
       "      <td>0.106845</td>\n",
       "      <td>0.140845</td>\n",
       "      <td>0.098940</td>\n",
       "      <td>0.567548</td>\n",
       "      <td>0.606299</td>\n",
       "      <td>0.137725</td>\n",
       "      <td>0.153846</td>\n",
       "      <td>5</td>\n",
       "    </tr>\n",
       "  </tbody>\n",
       "</table>\n",
       "</div>"
      ],
      "text/plain": [
       "   fixed acidity  volatile acidity  citric acid  residual sugar  chlorides  \\\n",
       "0       0.247788          0.397260         0.00        0.068493   0.106845   \n",
       "1       0.283186          0.520548         0.00        0.116438   0.143573   \n",
       "2       0.283186          0.438356         0.04        0.095890   0.133556   \n",
       "3       0.584071          0.109589         0.56        0.068493   0.105175   \n",
       "4       0.247788          0.397260         0.00        0.068493   0.106845   \n",
       "\n",
       "   free sulfur dioxide  total sulfur dioxide   density        pH  sulphates  \\\n",
       "0             0.140845              0.098940  0.567548  0.606299   0.137725   \n",
       "1             0.338028              0.215548  0.494126  0.362205   0.209581   \n",
       "2             0.197183              0.169611  0.508811  0.409449   0.191617   \n",
       "3             0.225352              0.190813  0.582232  0.330709   0.149701   \n",
       "4             0.140845              0.098940  0.567548  0.606299   0.137725   \n",
       "\n",
       "    alcohol  quality  \n",
       "0  0.153846        5  \n",
       "1  0.215385        5  \n",
       "2  0.215385        5  \n",
       "3  0.215385        6  \n",
       "4  0.153846        5  "
      ]
     },
     "execution_count": 14,
     "metadata": {},
     "output_type": "execute_result"
    }
   ],
   "source": [
    "from sklearn.preprocessing import StandardScaler as SS\n",
    "scaler = SS().fit\n",
    "x_scaled = SS().fit_transform(data.iloc[:,0:-1])\n",
    "\n",
    "pp_data = data.copy()\n",
    "\n",
    "for col,x in zip(data.columns[0:-1], x_scaled.T):\n",
    "    pp_data[col] = x\n",
    "\n",
    "pp_data.head()"
   ]
  },
  {
   "cell_type": "code",
   "execution_count": 15,
   "id": "automated-thesis",
   "metadata": {},
   "outputs": [
    {
     "data": {
      "application/vnd.jupyter.widget-view+json": {
       "model_id": "aeaa33cfe4d0481fa020ab8a55b0d2c8",
       "version_major": 2,
       "version_minor": 0
      },
      "text/plain": [
       "Canvas(toolbar=Toolbar(toolitems=[('Home', 'Reset original view', 'home', 'home'), ('Back', 'Back to previous …"
      ]
     },
     "metadata": {},
     "output_type": "display_data"
    }
   ],
   "source": [
    "# CONTROLLO RISCALAMENTO DATI\n",
    "plt.figure(figsize = [15,4])\n",
    "for col in pp_data.columns[0:-1]:\n",
    "    plt.hist(pp_data[col], bins=20, alpha = 0.5)\n",
    "    plt.xscale('log')\n",
    "    plt.title('DISTRIBUTIONS')\n",
    "    plt.xlabel('values')\n",
    "    plt.ylabel('samples per bin')\n",
    "plt.legend(pp_data.columns, loc ='right')\n",
    "plt.show()"
   ]
  },
  {
   "cell_type": "code",
   "execution_count": 16,
   "id": "likely-graham",
   "metadata": {},
   "outputs": [
    {
     "data": {
      "application/vnd.jupyter.widget-view+json": {
       "model_id": "f3f6feac78c3437488777c338d1bbfb5",
       "version_major": 2,
       "version_minor": 0
      },
      "text/plain": [
       "Canvas(toolbar=Toolbar(toolitems=[('Home', 'Reset original view', 'home', 'home'), ('Back', 'Back to previous …"
      ]
     },
     "metadata": {},
     "output_type": "display_data"
    }
   ],
   "source": [
    "plt.figure(figsize = [15,4])\n",
    "for col in pp_data.columns[0:-1]:\n",
    "    plt.hist(pp_data[col], bins=20, alpha = 0.5)\n",
    "    plt.xscale('linear')\n",
    "    plt.title('DISTRIBUTIONS')\n",
    "    plt.xlabel('values')\n",
    "    plt.ylabel('samples per bin')\n",
    "plt.legend(pp_data.columns, loc ='right')\n",
    "plt.show()"
   ]
  },
  {
   "cell_type": "markdown",
   "id": "alleged-worker",
   "metadata": {},
   "source": [
    "##### Si veda ora, per ogni feature, quale è la distribuzione dei valori di ogni classe. Si può notare che molte feature portano più varianza tra le distribuzioni delle classi rispetto alle altre, questo si vedrà ancora meglio quando si farà la PCA."
   ]
  },
  {
   "cell_type": "code",
   "execution_count": 17,
   "id": "excessive-modification",
   "metadata": {},
   "outputs": [
    {
     "data": {
      "application/vnd.jupyter.widget-view+json": {
       "model_id": "8dcf0dde10524f3b93fff3f08f4f774c",
       "version_major": 2,
       "version_minor": 0
      },
      "text/plain": [
       "Canvas(toolbar=Toolbar(toolitems=[('Home', 'Reset original view', 'home', 'home'), ('Back', 'Back to previous …"
      ]
     },
     "metadata": {},
     "output_type": "display_data"
    },
    {
     "data": {
      "application/vnd.jupyter.widget-view+json": {
       "model_id": "0bc7b4ded0ed4dbf95e9cf9cc402a661",
       "version_major": 2,
       "version_minor": 0
      },
      "text/plain": [
       "Canvas(toolbar=Toolbar(toolitems=[('Home', 'Reset original view', 'home', 'home'), ('Back', 'Back to previous …"
      ]
     },
     "metadata": {},
     "output_type": "display_data"
    },
    {
     "data": {
      "application/vnd.jupyter.widget-view+json": {
       "model_id": "aaca7e0986214d53adf98aac05998572",
       "version_major": 2,
       "version_minor": 0
      },
      "text/plain": [
       "Canvas(toolbar=Toolbar(toolitems=[('Home', 'Reset original view', 'home', 'home'), ('Back', 'Back to previous …"
      ]
     },
     "metadata": {},
     "output_type": "display_data"
    },
    {
     "data": {
      "application/vnd.jupyter.widget-view+json": {
       "model_id": "19c314823165411e869cc7ec9512e788",
       "version_major": 2,
       "version_minor": 0
      },
      "text/plain": [
       "Canvas(toolbar=Toolbar(toolitems=[('Home', 'Reset original view', 'home', 'home'), ('Back', 'Back to previous …"
      ]
     },
     "metadata": {},
     "output_type": "display_data"
    },
    {
     "data": {
      "application/vnd.jupyter.widget-view+json": {
       "model_id": "6ebebb763a054d58b74e2fbd9acfd526",
       "version_major": 2,
       "version_minor": 0
      },
      "text/plain": [
       "Canvas(toolbar=Toolbar(toolitems=[('Home', 'Reset original view', 'home', 'home'), ('Back', 'Back to previous …"
      ]
     },
     "metadata": {},
     "output_type": "display_data"
    },
    {
     "data": {
      "application/vnd.jupyter.widget-view+json": {
       "model_id": "cdd75141aa5f4e6d951c72cb30a0448d",
       "version_major": 2,
       "version_minor": 0
      },
      "text/plain": [
       "Canvas(toolbar=Toolbar(toolitems=[('Home', 'Reset original view', 'home', 'home'), ('Back', 'Back to previous …"
      ]
     },
     "metadata": {},
     "output_type": "display_data"
    },
    {
     "data": {
      "application/vnd.jupyter.widget-view+json": {
       "model_id": "63463dbae8d8483cb79f707fdcce02ac",
       "version_major": 2,
       "version_minor": 0
      },
      "text/plain": [
       "Canvas(toolbar=Toolbar(toolitems=[('Home', 'Reset original view', 'home', 'home'), ('Back', 'Back to previous …"
      ]
     },
     "metadata": {},
     "output_type": "display_data"
    },
    {
     "data": {
      "application/vnd.jupyter.widget-view+json": {
       "model_id": "8534aa12bc24485e9325a17de3eb5e1b",
       "version_major": 2,
       "version_minor": 0
      },
      "text/plain": [
       "Canvas(toolbar=Toolbar(toolitems=[('Home', 'Reset original view', 'home', 'home'), ('Back', 'Back to previous …"
      ]
     },
     "metadata": {},
     "output_type": "display_data"
    },
    {
     "data": {
      "application/vnd.jupyter.widget-view+json": {
       "model_id": "c526e65b87c9493a94bedf5e7286074f",
       "version_major": 2,
       "version_minor": 0
      },
      "text/plain": [
       "Canvas(toolbar=Toolbar(toolitems=[('Home', 'Reset original view', 'home', 'home'), ('Back', 'Back to previous …"
      ]
     },
     "metadata": {},
     "output_type": "display_data"
    },
    {
     "data": {
      "application/vnd.jupyter.widget-view+json": {
       "model_id": "8b08a020e6434028aa64d684d984a591",
       "version_major": 2,
       "version_minor": 0
      },
      "text/plain": [
       "Canvas(toolbar=Toolbar(toolitems=[('Home', 'Reset original view', 'home', 'home'), ('Back', 'Back to previous …"
      ]
     },
     "metadata": {},
     "output_type": "display_data"
    },
    {
     "data": {
      "application/vnd.jupyter.widget-view+json": {
       "model_id": "d3c5941d548f40aca5b6ba3d74d435de",
       "version_major": 2,
       "version_minor": 0
      },
      "text/plain": [
       "Canvas(toolbar=Toolbar(toolitems=[('Home', 'Reset original view', 'home', 'home'), ('Back', 'Back to previous …"
      ]
     },
     "metadata": {},
     "output_type": "display_data"
    }
   ],
   "source": [
    "# SET DELLE QUALITA' DEI VINI\n",
    "qualities = set(data['quality'])\n",
    "\n",
    "# CALCOLO DI MEDIA E VARIANZA CAMPIONARIA\n",
    "means = []\n",
    "stds = []\n",
    "idx = range(len(qualities))\n",
    "\n",
    "datas = []\n",
    "\n",
    "for t,i in zip(qualities,idx):\n",
    "    datas.append(pp_data[pp_data['quality'] == t])\n",
    "    means.append([])\n",
    "    stds.append([])\n",
    "    for col in data.iloc[:,0:-1].columns:\n",
    "        means[i].append(np.mean(datas[i][col]))\n",
    "        stds[i].append(np.var(datas[i][col]))\n",
    "        \n",
    "means = np.array(means).T\n",
    "stds = np.array(stds).T\n",
    "\n",
    "\n",
    "# PLOT DEI RISULTATI OTTENUTI CON IL PREPROCESSING\n",
    "from scipy.stats import norm\n",
    "\n",
    "colors = ['b','g','r','c','m','y']\n",
    "for col,m,v in zip(data.iloc[:,0:-1].columns, means, stds):\n",
    "    plt.figure(figsize = [10,2])\n",
    "    plt.title(col)\n",
    "    for t,i,color in zip(qualities,idx, colors):\n",
    "        plt.hist(datas[i][col], density=True, color=color, alpha = 0.3)\n",
    "        x = np.linspace(m[i]-5*v[i],m[i]+5*v[i],100)\n",
    "        y = norm(m[i],v[i]).pdf(x)\n",
    "        plt.plot(x,y, color = color)"
   ]
  },
  {
   "cell_type": "markdown",
   "id": "virgin-imperial",
   "metadata": {},
   "source": [
    "# SUPERVISED LEARNING\n",
    "L'apprendimento supervisionato, noto anche come apprendimento automatico supervisionato, è una sottocategoria di apprendimento automatico e intelligenza artificiale .\n",
    "È definito dall'uso di set di dati etichettati per addestrare algoritmi in grado di classificare i dati o prevedere i risultati in modo accurato.\n",
    "Quando i dati di input vengono inseriti nel modello, esso aggiusta i propri pesi fino a quando il modello non 'fitta' bene i dati, il che avviene come parte del processo di cross-validation.\n",
    "# Decision Tree Classifier\n",
    "In generale i metodi basati sugli alberi sia dei buoni regressori che classificatori.\n",
    "L'idea principale è quella di dividere lo spazio delle feature $X$ in regioni più piccole per trovare una funzione di predizione per ogni regione.\n",
    "Poiché l'insieme di regole di divisione utilizzate per segmentare lo\n",
    "spazio predittore può essere riassunto in un albero, questi tipi di\n",
    "approcci sono noti come metodi _Decision-Tree_.\n",
    "##### Vantaggi e svantaggi\n",
    "<ul>\n",
    "  <li>I metodi basati sugli alberi sono semplici e di facile interpretazione</li>\n",
    "  <li>Non sono efficienti come i migliori approcci di supervised learning in termini di accuracy</li>\n",
    "  <li>Combinando un gran numero di alberi si può spesso ottenere un miglioramento nell'accuracy della predizione a scapito della difficoltà interpretativa</li>\n",
    "</ul>\n",
    "\n",
    "##### Processo di Tree-building\n",
    "<ol>\n",
    "  <li>Si divide lo spazio dei predittori (l'insieme di tutti i possibili valori per X1, X2,..., Xp) in J regioni distinte non sovrapposte</li>\n",
    "  <li>Per ogni osservazione che cade nella regione Rj, si fa la stessa predizione, che è semplicemente la media delle variabili response per le osservazioni del training set in Rj</li>\n",
    "</ol>\n",
    "\n",
    "In teoria, le regioni potrebbero avere una forma qualsiasi, ma per semplicità di implementazione e di interpretazione si preferisce dividere lo spazio dei predittori in 'scatole alto-dimensionali'.\n",
    "L'obbiettivo è quello di trovare le scatole R1,...,Rj tale da minimizzare il RSS (Residual Sum of Squares) ovvero la Loss calcolata come somma dei quadrati residua\n",
    "$$\\sum_{j=1}^J\\sum_{i\\in R_j}(y_i-\\hat{y}_{R_j})^2$$\n",
    "dove con $\\hat{y}_{R_j}$ si indica la media dei response per le osservazioni del training set nella j-esima scatola."
   ]
  },
  {
   "cell_type": "code",
   "execution_count": 18,
   "id": "published-small",
   "metadata": {},
   "outputs": [],
   "source": [
    "from sklearn.model_selection import train_test_split\n",
    "from sklearn.metrics import classification_report\n",
    "from sklearn.metrics import f1_score\n",
    "\n",
    "X = pp_data.iloc[:,:-1]\n",
    "y = pp_data['quality']\n",
    "X_train, X_test, y_train, y_test = train_test_split(X,y,test_size=0.2,\n",
    "                                                   random_state=21,\n",
    "                                                   stratify=y,shuffle=True)"
   ]
  },
  {
   "cell_type": "code",
   "execution_count": 19,
   "id": "impaired-scene",
   "metadata": {},
   "outputs": [
    {
     "name": "stdout",
     "output_type": "stream",
     "text": [
      "              precision    recall  f1-score   support\n",
      "\n",
      "           3       0.00      0.00      0.00         2\n",
      "           4       0.06      0.36      0.11        11\n",
      "           5       0.64      0.45      0.53       136\n",
      "           6       0.47      0.36      0.41       128\n",
      "           7       0.43      0.23      0.30        40\n",
      "           8       0.05      0.67      0.10         3\n",
      "\n",
      "    accuracy                           0.38       320\n",
      "   macro avg       0.27      0.34      0.24       320\n",
      "weighted avg       0.51      0.38      0.43       320\n",
      "\n"
     ]
    }
   ],
   "source": [
    "# TEST DECISION TREE\n",
    "\n",
    "from sklearn.tree import DecisionTreeClassifier as DTC\n",
    "from sklearn.tree import plot_tree\n",
    "dtc = DTC(criterion='gini',max_features='log2',\n",
    "          random_state=7,class_weight='balanced',max_depth=4)\n",
    "dtc.fit(X_train,y_train)\n",
    "pred_dtc = dtc.predict(X_test)\n",
    "print(classification_report(y_test, pred_dtc))"
   ]
  },
  {
   "cell_type": "code",
   "execution_count": 20,
   "id": "complete-relay",
   "metadata": {},
   "outputs": [
    {
     "data": {
      "application/vnd.jupyter.widget-view+json": {
       "model_id": "11b81952041a42508d6f11c841656459",
       "version_major": 2,
       "version_minor": 0
      },
      "text/plain": [
       "Canvas(toolbar=Toolbar(toolitems=[('Home', 'Reset original view', 'home', 'home'), ('Back', 'Back to previous …"
      ]
     },
     "metadata": {},
     "output_type": "display_data"
    }
   ],
   "source": [
    "plt.figure(figsize=[10,10])\n",
    "plot_tree(dtc)\n",
    "plt.show()"
   ]
  },
  {
   "cell_type": "markdown",
   "id": "elect-sullivan",
   "metadata": {},
   "source": [
    "# Random Forest Classifier"
   ]
  },
  {
   "cell_type": "code",
   "execution_count": 21,
   "id": "organizational-stamp",
   "metadata": {},
   "outputs": [],
   "source": [
    "from sklearn.ensemble import RandomForestClassifier\n",
    "from sklearn.datasets import make_classification\n",
    "clf = RandomForestClassifier(max_depth=100, random_state=0)\n",
    "clf.fit(X_train, y_train)\n",
    "y_pred = clf.predict(X_test)"
   ]
  },
  {
   "cell_type": "code",
   "execution_count": 22,
   "id": "french-pollution",
   "metadata": {},
   "outputs": [
    {
     "data": {
      "text/plain": [
       "0.4197355667473053"
      ]
     },
     "execution_count": 22,
     "metadata": {},
     "output_type": "execute_result"
    }
   ],
   "source": [
    "from sklearn.metrics import f1_score\n",
    "\n",
    "f1_score(y_test, y_pred, average='macro')"
   ]
  },
  {
   "cell_type": "markdown",
   "id": "arctic-battle",
   "metadata": {},
   "source": [
    "# UNSUPERVISED LEARNING\n",
    "L'Unsupervised Learning (o Apprendimento non supervisionato) si riferisce all'uso di algoritmi di intelligenza artificiale per identificare modelli in set di dati contenenti punti dati che non sono né classificati nè etichettati.\n",
    "In altre parole, l'apprendimento non supervisionato consente al sistema di identificare autonomamente i modelli all'interno del set di dati.\n",
    "Nell'apprendimento non supervisionato, un sistema di intelligenza artificiale raggrupperà le informazioni non ordinate in base a somiglianze e differenze (tramite le features) anche se non vengono fornite classi.\n",
    "# Principal Component Analysis\n"
   ]
  },
  {
   "cell_type": "markdown",
   "id": "complimentary-phrase",
   "metadata": {},
   "source": [
    "##### Si passi ora all'Analisi delle componenti principali 'PCA'.\n",
    "##### La Principal Component Analysis (PCA) è uno strumento molto utilizzato per la riduzione lineare della dimensionalità e per l'estrazione delle feature (caratteristiche).\n",
    "##### Lo scopo della PCA è quello di trovare un sottospazio lineare di dimensionalità fissata inferiore allo spazio delle feature originale, dove le nuove feature abbiano la massima varianza possibile."
   ]
  },
  {
   "cell_type": "markdown",
   "id": "quick-swimming",
   "metadata": {},
   "source": [
    "#### Principal Component Analysis\n",
    "La __Principal Component Analysis (PCA)__ è uno strumento molto utilizzato per la riduzione lineare della dimensionalità e per l'estrazione delle feature (caratteristiche).\n",
    "Lo scopo della PCA è quello di trovare un sottospazio lineare di dimensionalità fissata inferiore allo spazio delle feature originale, dove le nuove feature abbiano la massima varianza possibile.\n",
    "\n",
    "Si consideri un dataset $\\{x_i\\}$ dove $i=1,2,...,N$, ed ogni $x_i$ un vettore D-dimensionale.\n",
    "Ora si vuole proiettare i dati su un sottospazio M-dimensionale, con $M<D$.\n",
    "Assumendo la proiezione denotata come $y=Ax$, dove $A=[u_1^T,...,u_M^T]$ e $u_k^Tu_k=1$ per $k=1,2,...,M$, si cerca di massimizzare la varianza di $\\{y_i\\}$, che è la traccia della matrice di covarianza di $\\{y_i\\}$.\n",
    "Così, bisogna trovare $$A^*=\\arg\\max_A tr(S_y)$$ dove $$S_y=\\frac{1}{N}\\sum_{i=1}^N(y_i-\\bar{y})(y_i-\\bar{y})^T$$ e $$\\bar{y}=\\frac{1}{N}\\sum_{i=1}^Nx_i.$$\n",
    "Sia $S_x$ la matrice di covarianza di $\\{x_i\\}$. Dato che $tr(S_y)=tr(AS_xA^T)$, usando il Moltiplicatore Lagrangiano e prendendo le derivate, si ottiene $$S_xu_k=\\lambda_ku_k$$ che significa che $u_k$ è un autovettore di $S_x$. Ora $x_i$ può essere rappresentata come $$x_i=\\sum_{k=1}^D(x_i^Tu_k)u_k.$$\n",
    "$x_i$ può anche essere approssimato da $$\\tilde{x}_i=\\sum_{i=1}^M(x_i^Tu_k)u_k,$$\n",
    "dove $u_k$ è l'autovettore di $S_x$ corrispondente al k-esimo autovalore più grande."
   ]
  },
  {
   "cell_type": "markdown",
   "id": "spread-draft",
   "metadata": {},
   "source": [
    "##### Si vedano di sequito qualsi sono le componenti principali che spiegano più varianza."
   ]
  },
  {
   "cell_type": "code",
   "execution_count": 23,
   "id": "searching-prairie",
   "metadata": {},
   "outputs": [
    {
     "data": {
      "application/vnd.jupyter.widget-view+json": {
       "model_id": "8c1df9a08bdf499e854033ea1a758fef",
       "version_major": 2,
       "version_minor": 0
      },
      "text/plain": [
       "Canvas(toolbar=Toolbar(toolitems=[('Home', 'Reset original view', 'home', 'home'), ('Back', 'Back to previous …"
      ]
     },
     "metadata": {},
     "output_type": "display_data"
    }
   ],
   "source": [
    "# VOGLIO VEDERE QUALI SONO LE COMPONENTI PRINCIPALI CHE SPIEGANO PIU VARIANZA\n",
    "from sklearn.decomposition import PCA\n",
    "\n",
    "color = (0.2, 0.4, 0.6, 0.6)\n",
    "\n",
    "pca = PCA().fit(pp_data.iloc[:,0:-1],pp_data['quality'])\n",
    "\n",
    "# scelta componenti principali\n",
    "plt.figure(figsize = [10,4])\n",
    "plt.plot(np.arange(1,12),pca.explained_variance_ratio_*100, 'ko')\n",
    "plt.plot(np.arange(1,12),pca.explained_variance_ratio_*100, 'k')\n",
    "for i,var in zip(range(1,12), pca.explained_variance_ratio_*100):\n",
    "    plt.annotate(round(var,2),[i,var])\n",
    "plt.bar(np.arange(1,12),height = pca.explained_variance_ratio_*100, color = color)\n",
    "plt.grid()\n",
    "plt.xlabel('principal components')\n",
    "plt.xticks(np.arange(1,12))\n",
    "plt.yticks(np.arange(0,50,5))\n",
    "plt.ylabel('explained variances')\n",
    "\n",
    "#plt.semilogy()\n",
    "plt.title('Wine PCA')\n",
    "plt.show()"
   ]
  },
  {
   "cell_type": "markdown",
   "id": "norwegian-trash",
   "metadata": {},
   "source": [
    "##### Si veda ora come aumenta la varianza spiegata con l'aggiunta delle componenti principali, si noti che il grafico prende la tipica forna a 'gomito' che ottimizza la scelta del numero di componenti principali da considerare."
   ]
  },
  {
   "cell_type": "code",
   "execution_count": 24,
   "id": "several-platinum",
   "metadata": {},
   "outputs": [
    {
     "data": {
      "application/vnd.jupyter.widget-view+json": {
       "model_id": "b6080d848ae44783b29fb8a21dc53ab8",
       "version_major": 2,
       "version_minor": 0
      },
      "text/plain": [
       "Canvas(toolbar=Toolbar(toolitems=[('Home', 'Reset original view', 'home', 'home'), ('Back', 'Back to previous …"
      ]
     },
     "metadata": {},
     "output_type": "display_data"
    }
   ],
   "source": [
    "# controllo sulla distribuzione cumulativa\n",
    "# scelta componenti principali\n",
    "\n",
    "plt.figure(figsize = [10,4])\n",
    "plt.plot(np.arange(1,12),pca.explained_variance_ratio_.cumsum()*100, 'ko')\n",
    "plt.plot(np.arange(1,12),pca.explained_variance_ratio_.cumsum()*100, 'k')\n",
    "for i,var in zip(range(1,12), pca.explained_variance_ratio_.cumsum()*100):\n",
    "    plt.annotate(round(var,2),[i,var])\n",
    "plt.bar(np.arange(1,12),height = pca.explained_variance_ratio_.cumsum()*100, color = color)\n",
    "plt.grid()\n",
    "plt.xlabel('principal components')\n",
    "plt.xticks(np.arange(1,12))\n",
    "plt.yticks(np.arange(0,110,10))\n",
    "plt.ylabel('explained variances')\n",
    "plt.title('Wine PCA')\n",
    "plt.show()"
   ]
  },
  {
   "cell_type": "code",
   "execution_count": 25,
   "id": "mexican-guidance",
   "metadata": {},
   "outputs": [],
   "source": [
    "X = pp_data.iloc[:,:-1].values\n",
    "y = pp_data['quality'].values"
   ]
  },
  {
   "cell_type": "code",
   "execution_count": 26,
   "id": "responsible-colombia",
   "metadata": {},
   "outputs": [
    {
     "data": {
      "application/vnd.jupyter.widget-view+json": {
       "model_id": "db7a3c7bf8004292b11363a198410416",
       "version_major": 2,
       "version_minor": 0
      },
      "text/plain": [
       "Canvas(toolbar=Toolbar(toolitems=[('Home', 'Reset original view', 'home', 'home'), ('Back', 'Back to previous …"
      ]
     },
     "metadata": {},
     "output_type": "display_data"
    }
   ],
   "source": [
    "pca_wine = PCA()\n",
    "scaler = StandardScaler()\n",
    "scaler.fit(X)\n",
    "Xscaled = scaler.transform(X)\n",
    "pca_wine.fit(Xscaled)\n",
    "\n",
    "\n",
    "plt.figure(figsize=(10,8))\n",
    "plt.plot(100*np.insert(np.cumsum(pca_wine.explained_variance_ratio_), 0, 0))\n",
    "plt.title('Explained variance of Wine Dataset')\n",
    "plt.xticks(ticks=np.arange(1, pca_wine.n_features_ + 1), \n",
    "           labels=[f'PC{i}' for i in range(1, pca_wine.n_features_ + 1)])\n",
    "plt.yticks(ticks=np.arange(0, 101, 5))\n",
    "plt.xlabel('Principal components')\n",
    "plt.ylabel('Percentage of cumulative explained variance')\n",
    "plt.grid()\n",
    "plt.show()"
   ]
  },
  {
   "cell_type": "markdown",
   "id": "inclusive-demographic",
   "metadata": {},
   "source": [
    "##### Qui di seguito è rappresentato invece il grafico bidimensionale e tridimensionale delle classi rispetto alle prime 2 e 3 componenti principali."
   ]
  },
  {
   "cell_type": "code",
   "execution_count": 27,
   "id": "moderate-afghanistan",
   "metadata": {},
   "outputs": [
    {
     "name": "stderr",
     "output_type": "stream",
     "text": [
      "<ipython-input-27-4fcf588aa18d>:4: RuntimeWarning: More than 20 figures have been opened. Figures created through the pyplot interface (`matplotlib.pyplot.figure`) are retained until explicitly closed and may consume too much memory. (To control this warning, see the rcParam `figure.max_open_warning`).\n",
      "  fig = plt.figure()\n"
     ]
    },
    {
     "data": {
      "application/vnd.jupyter.widget-view+json": {
       "model_id": "6948b9057c784bb7b8d12cc95a4f2cd2",
       "version_major": 2,
       "version_minor": 0
      },
      "text/plain": [
       "Canvas(toolbar=Toolbar(toolitems=[('Home', 'Reset original view', 'home', 'home'), ('Back', 'Back to previous …"
      ]
     },
     "metadata": {},
     "output_type": "display_data"
    },
    {
     "data": {
      "application/vnd.jupyter.widget-view+json": {
       "model_id": "d92208c28a504081a8f31add12ef7e1e",
       "version_major": 2,
       "version_minor": 0
      },
      "text/plain": [
       "Canvas(toolbar=Toolbar(toolitems=[('Home', 'Reset original view', 'home', 'home'), ('Back', 'Back to previous …"
      ]
     },
     "metadata": {},
     "output_type": "display_data"
    }
   ],
   "source": [
    "#3D plot\n",
    "data_pca = pca.transform(pp_data.iloc[:,0:-1])\n",
    "\n",
    "fig = plt.figure()\n",
    "ax = fig.add_subplot(projection='3d')\n",
    "plt.title('PCA WINE QUALITIES 3D')\n",
    "for t,c,w in zip(qualities,['purple','c','gold','orange','crimson','mediumblue',\n",
    "                           'dimgrey'],['quality 3','quality 4','quality 5','quality 6',\n",
    "                                       'quality 7','quality 8']):\n",
    "    ax.set_xlabel('PC1')\n",
    "    ax.set_ylabel('PC2')\n",
    "    ax.set_zlabel('PC3')\n",
    "    ax.scatter(data_pca[data['quality']==t][:,0],\n",
    "               data_pca[data['quality']==t][:,1],\n",
    "               data_pca[data['quality']==t][:,2],\n",
    "               color = c, s = 30, label = w)\n",
    "ax.legend()\n",
    "fig.set_size_inches(15,15)\n",
    "plt.show()\n",
    "\n",
    "#2D plot\n",
    "plt.figure(figsize = [8,4])\n",
    "for t,c,w in zip(qualities,['purple','c','gold','orange','crimson','mediumblue',\n",
    "                           'dimgrey'],['quality 3','quality 4','quality 5','quality 6',\n",
    "                                       'quality 7','quality 8']):\n",
    "    plt.scatter(data_pca[pp_data['quality']==t][:,0],\n",
    "                data_pca[pp_data['quality']==t][:,1], \n",
    "                s = 10, color = c, label = w)\n",
    "    plt.title('PCA WINE QUALITIES 2D')\n",
    "    plt.xlabel('PC1')\n",
    "    plt.ylabel('PC2')\n",
    "plt.legend()\n",
    "plt.grid()\n",
    "plt.show()"
   ]
  },
  {
   "cell_type": "code",
   "execution_count": 28,
   "id": "based-halloween",
   "metadata": {},
   "outputs": [
    {
     "name": "stdout",
     "output_type": "stream",
     "text": [
      "Numero PC: 9\n",
      "% Varianza Tot. Spiegata: 0.9781007746827457\n"
     ]
    },
    {
     "data": {
      "application/vnd.jupyter.widget-view+json": {
       "model_id": "f1959039acf749fc8a0df836980c0a24",
       "version_major": 2,
       "version_minor": 0
      },
      "text/plain": [
       "Canvas(toolbar=Toolbar(toolitems=[('Home', 'Reset original view', 'home', 'home'), ('Back', 'Back to previous …"
      ]
     },
     "metadata": {},
     "output_type": "display_data"
    },
    {
     "data": {
      "application/vnd.jupyter.widget-view+json": {
       "model_id": "1f6c3e20004c4010863763243a06b19c",
       "version_major": 2,
       "version_minor": 0
      },
      "text/plain": [
       "Canvas(toolbar=Toolbar(toolitems=[('Home', 'Reset original view', 'home', 'home'), ('Back', 'Back to previous …"
      ]
     },
     "metadata": {},
     "output_type": "display_data"
    }
   ],
   "source": [
    "pca_wine_m = PCA(0.95)\n",
    "pca_wine_m.fit(Xscaled)\n",
    "X_wine_m = pca_wine_m.transform(Xscaled)\n",
    "num_tosee = 1000\n",
    "print('Numero PC: {}'.format(pca_wine_m.n_components_))\n",
    "print('% Varianza Tot. Spiegata: {}'.format(pca_wine_m.explained_variance_ratio_.sum()))\n",
    "\n",
    "\n",
    "plt.figure(figsize=(8, 6))\n",
    "plt.scatter(X_wine_m[:num_tosee, 0], X_wine_m[:num_tosee, 1], c=y[:num_tosee], cmap='turbo')\n",
    "plt.title('WINE - SCORE GRAPH WITH 2 PCA WITH {} POINTS'.format(num_tosee))\n",
    "plt.xlabel('PC1')\n",
    "plt.ylabel('PC2')\n",
    "plt.grid()\n",
    "plt.show()\n",
    "\n",
    "fig_beanscore = plt.figure(figsize=(8, 6))\n",
    "ax = fig_beanscore.add_subplot(111, projection='3d')\n",
    "ax.scatter(X_wine_m[:num_tosee, 0], X_wine_m[:num_tosee, 1], X_wine_m[:num_tosee, 2], c=y[:num_tosee], cmap='turbo')\n",
    "plt.title('WINE - SCORE GRAPH WITH 3 PCA WITH {} POINTS'.format(num_tosee))\n",
    "ax.set_xlabel('PC1')\n",
    "ax.set_ylabel('PC2')\n",
    "ax.set_zlabel('PC3')\n",
    "plt.grid()\n",
    "plt.show()"
   ]
  },
  {
   "cell_type": "code",
   "execution_count": 29,
   "id": "loaded-monitor",
   "metadata": {},
   "outputs": [
    {
     "data": {
      "application/vnd.jupyter.widget-view+json": {
       "model_id": "ea31b164bf984c009f17acad149f464f",
       "version_major": 2,
       "version_minor": 0
      },
      "text/plain": [
       "Canvas(toolbar=Toolbar(toolitems=[('Home', 'Reset original view', 'home', 'home'), ('Back', 'Back to previous …"
      ]
     },
     "metadata": {},
     "output_type": "display_data"
    },
    {
     "data": {
      "application/vnd.jupyter.widget-view+json": {
       "model_id": "129e2d5a5611409298196e9678edb49b",
       "version_major": 2,
       "version_minor": 0
      },
      "text/plain": [
       "Canvas(toolbar=Toolbar(toolitems=[('Home', 'Reset original view', 'home', 'home'), ('Back', 'Back to previous …"
      ]
     },
     "metadata": {},
     "output_type": "display_data"
    }
   ],
   "source": [
    "plt.figure()\n",
    "for i in range(pca_wine_m.n_features_):\n",
    "    plt.plot([0, pca_wine_m.components_[0, i]], [0, pca_wine_m.components_[1, i]], \n",
    "             label=pp_data.iloc[:, :-1].columns[i])\n",
    "plt.scatter(pca_wine_m.components_[0, :], pca_wine_m.components_[1, :], c='k')\n",
    "plt.legend()\n",
    "plt.title('WINE - LOADING GRAPH WITH 2 PC')\n",
    "plt.xlabel('PC1')\n",
    "plt.ylabel('PC2')\n",
    "plt.grid()\n",
    "plt.show()\n",
    "\n",
    "\n",
    "fig_winescore = plt.figure()\n",
    "ax = fig_winescore.add_subplot(111, projection='3d')\n",
    "for i in range(pca_wine_m.n_features_):\n",
    "    ax.plot([0, pca_wine_m.components_[0, i]], [0, pca_wine_m.components_[1, i]], \n",
    "            [0, pca_wine_m.components_[2, i]],\n",
    "             label=pp_data.iloc[:, :-1].columns[i])\n",
    "ax.scatter(pca_wine_m.components_[0, :], pca_wine_m.components_[1, :], pca_wine_m.components_[2, :], c='k')\n",
    "plt.legend(bbox_to_anchor=(1.05, 1), fontsize='xx-small')\n",
    "plt.title('WINE - LOADING GRAPH WITH 3 PC')\n",
    "ax.set_xlabel('PC1')\n",
    "ax.set_ylabel('PC2')\n",
    "ax.set_zlabel('PC3')\n",
    "plt.grid()\n",
    "plt.show()"
   ]
  },
  {
   "cell_type": "code",
   "execution_count": 30,
   "id": "considered-baker",
   "metadata": {},
   "outputs": [
    {
     "data": {
      "application/vnd.jupyter.widget-view+json": {
       "model_id": "dc0f6febeffa461ca79d19b0641171a3",
       "version_major": 2,
       "version_minor": 0
      },
      "text/plain": [
       "Canvas(toolbar=Toolbar(toolitems=[('Home', 'Reset original view', 'home', 'home'), ('Back', 'Back to previous …"
      ]
     },
     "metadata": {},
     "output_type": "display_data"
    },
    {
     "data": {
      "application/vnd.jupyter.widget-view+json": {
       "model_id": "5ddaf8d5d25a4cfcb59945b98ac7d462",
       "version_major": 2,
       "version_minor": 0
      },
      "text/plain": [
       "Canvas(toolbar=Toolbar(toolitems=[('Home', 'Reset original view', 'home', 'home'), ('Back', 'Back to previous …"
      ]
     },
     "metadata": {},
     "output_type": "display_data"
    },
    {
     "data": {
      "application/vnd.jupyter.widget-view+json": {
       "model_id": "37d998df61084c4686bcf0fad4d7054f",
       "version_major": 2,
       "version_minor": 0
      },
      "text/plain": [
       "Canvas(toolbar=Toolbar(toolitems=[('Home', 'Reset original view', 'home', 'home'), ('Back', 'Back to previous …"
      ]
     },
     "metadata": {},
     "output_type": "display_data"
    },
    {
     "data": {
      "application/vnd.jupyter.widget-view+json": {
       "model_id": "5326831f1d014309b5dc9b03b6934e29",
       "version_major": 2,
       "version_minor": 0
      },
      "text/plain": [
       "Canvas(toolbar=Toolbar(toolitems=[('Home', 'Reset original view', 'home', 'home'), ('Back', 'Back to previous …"
      ]
     },
     "metadata": {},
     "output_type": "display_data"
    }
   ],
   "source": [
    "plt.figure(figsize=(8, 6))\n",
    "plt.bar(np.arange(pca_wine_m.n_features_), pca_wine_m.components_[0, :])\n",
    "plt.xticks(ticks=np.arange(pca_wine_m.n_features_), \n",
    "           labels=data.iloc[:,:-1].columns.to_list(),\n",
    "           rotation=30)\n",
    "plt.title('WINE - PC1')\n",
    "plt.grid()\n",
    "plt.show()\n",
    "\n",
    "plt.figure(figsize=(8, 6))\n",
    "plt.bar(np.arange(pca_wine_m.n_features_), pca_wine_m.components_[1, :])\n",
    "plt.xticks(ticks=np.arange(pca_wine_m.n_features_), \n",
    "           labels=pp_data.iloc[:,:-1].columns.to_list(),\n",
    "           rotation=30)\n",
    "plt.title('WINE - PC2')\n",
    "plt.grid()\n",
    "plt.show()\n",
    "\n",
    "plt.figure(figsize=(8, 6))\n",
    "plt.bar(np.arange(pca_wine_m.n_features_), pca_wine_m.components_[2, :])\n",
    "plt.xticks(ticks=np.arange(pca_wine_m.n_features_), \n",
    "           labels=pp_data.iloc[:,:-1].columns.to_list(),\n",
    "           rotation=30)\n",
    "plt.title('WINE - PC3')\n",
    "plt.grid()\n",
    "plt.show()\n",
    "\n",
    "plt.figure(figsize=(8, 6))\n",
    "plt.bar(np.arange(pca_wine_m.n_features_), pca_wine_m.components_[3, :])\n",
    "plt.xticks(ticks=np.arange(pca_wine_m.n_features_), \n",
    "           labels=pp_data.iloc[:,:-1].columns.to_list(),\n",
    "           rotation=30)\n",
    "plt.title('WINE - PC4')\n",
    "plt.grid()\n",
    "plt.show()"
   ]
  },
  {
   "cell_type": "markdown",
   "id": "outdoor-seating",
   "metadata": {},
   "source": [
    "# Fisher Discriminant Analysis"
   ]
  },
  {
   "cell_type": "markdown",
   "id": "useful-thompson",
   "metadata": {},
   "source": [
    "#### Fisher Discriminant Analysis\n",
    "Si supponga di avere un dataset di istanze o di punti $\\{(x_i,y_i)\\}_{i=1}^n$ con $n$ la grandezza del campione e dimensionalità $x_i\\in \\mathbb{R}^d$ e $y_i\\in\\mathbb{R}^l$. Le $\\{x_i\\}_{i=1}^n$ sono i dati di input del modello e le $\\{y_i\\}_{i=1}^n$ sono le osservazioni (labels).\n",
    "Si definisce $\\mathbb{R}^{d\\times n} \\ni X:=[x_1,...,x_n]$ e $\\mathbb{R}^{l\\times n}\\ni Y:=[y_1,...,y_n]$. Di solito, i dati stanno su un sottospazio o una sotto-collezione.\n",
    "Qui, si considera il caso in cui le osservazioni $\\{y_i\\}_{i=1}^n$ vengano da un insieme discreto in modo tale che l'obiettivo sia la _classificazione_.\n",
    "Supponendo che il dataset consista di $c$ classi, $\\{x_i^{(1)}\\}_{i=1}^{n_1},...,\\{x_i^{(c)}\\}_{i=1}^{n_c}$ dove $n_j$ denota la cardinalità del campione della j-esima classe.\n",
    "Si vuole pertanto trovare un sottospazio (o sotto-collezione) che separi le classi il più possibile mentre i dati diventino il più sparsi possibile.\n",
    "La __Fisher Discriminant Analysis (FDA)__ persegue questo obiettivo cercando di massimizzare la distanza tra le classi proiettate e contemporaneamente minimizzare la varianza all'interno delle singole classi.\n",
    "La varianza delle classi viene rappresentata dalla cosiddetta _Between Scatter Matrix_ $S_B$\n",
    "\n",
    "__Sottospazio Multidimensionale__\n",
    "Nel caso in cui il sottospazio di Fisher è lo span di più direzioni di Fisher, $\\{u_j\\}_{i=1}^p$ dove $u_j \\in \\mathbb{R}^p$, il $d_B$ e $d_W$ sono definiti come:\n",
    "$$\\mathbb{R} \\ni d_B := tr(U^TS_BU),$$\n",
    "$$\\mathbb{R} \\ni d_W := tr(U^TS_WU),$$\n",
    "dove $\\mathbb{R}^{d\\times p}\\ni U=[u_1,...,u_p]$. In questo caso, massimizzare il _criterio di Fisher_ significa:\n",
    "$\\underset{U}{mazimize}\\;f(U):= \\frac{d_B(U)}{d_W(U)}=\\frac{tr(U^TS_BU)}{tr(U^TS_WU)}$.\n",
    "Il _criterio di Fisher_ $f(U)$ è un _quoziente generalizzato di Rayleigh-Ritz_.\n",
    "Pertanto l'ottimizzazione dell'equazione di sopra è equivalente a:\n",
    "$$\\underset{U}{mazimize}\\;tr(U^TS_BU)$$\n",
    "$$tale\\;che\\;U^TS_WU=I$$\n",
    "Il _Lagrangiano_ è:\n",
    "$$\\mathcal{L}=tr(U^TS_BU)-tr(\\Lambda^T(U^TS_WU-I))$$\n",
    "dove $\\Lambda\\in\\mathbb{R}^{d\\times d}$ è una matrice diagonale le cui entrate diagonali sono i _moltiplicatori di Lagrange_.\n",
    "Eguagliando le derivate di $\\mathcal{L}$ a zero si ottiene:\n",
    "$$\\mathcal{R}^{d\\times d}\\ni\\frac{\\partial \\mathcal{L}}{\\partial U}=2S_WU\\Lambda \\overset{set}{=}0\\implies 2S_BU=2S_WU\\Lambda\\implies S_BU=S_WU\\Lambda,$$\n",
    "che è un problema agli autovalori generalizzati $(S_B,S_W)$.\n",
    "Le colonne di $U$ sono gli autovettori ordinati dall'autovalore più grande al più piccolo (perchè in questo caso l'ottimizzazione è la massimizzazione) e le entrate diagonali di $\\Lambda$ sono gli autovalori corrispondenti. Le colonne di $U$ vengono anche chiamate le _direzioni di Fisher_ o gli _assi di Fisher_.\n",
    "Una possibile soluzione al problema agli autovalori generalizzati $(S_B,S_W)$ è:\n",
    "$$S_BU=S_wU\\Lambda\\implies S_W^{-1}S_BU=U\\Lambda\\implies U=eig((S_W+\\epsilon I)^{-1}S_B),$$\n",
    "Un altro modo per risolvere l'ottimizzazione sarebbe prendere le derivate dal _criterio di Fisher_:\n",
    "$$\\mathbb{R}^{d\\times p}\\ni\\frac{\\partial f(U)}{\\partial U}=\\frac{1}{(tr(U^TS_WU))^2}\\times [tr(U^TS_WU)(2S_BU)-tr(U^TS_BU)(2S_WU)]\\overset{set}{=}0\\overset{(a)}{\\implies}S_BU=\\frac{tr(U^TS_BU}{tr(U^TS_WU)}S_WU,$$\n",
    "dove $(a)$ vale in quanto $tr(U^TS_WU)$ è uno scalare.\n",
    "L'equazione sopra è un problema agli autovalori generalizzati $(S_B,S_W)$ con colonne di $U$ come autovettori e $(u_j^TS_Bu_j)/(u_j^TS_Wu_j)$ come il j-esimo autovalore (in quanto l'ottimizzazione è la massimizzazione).\n",
    "Di nuovo, un altro modo di trovare le direzioni FDA è di considerare un'altra versione del criterio di Fisher.\n",
    "Il _criterio di Fisher_ diventa\n",
    "$$f(U)=\\frac{tr(U^T(S_T-S_W)U)}{tr(U^TS_WU)}=\\frac{tr(U^TS_TU)}{tr(U^TS_WU)}-1.$$\n",
    "Il $-1$ è una costante ed viene persa nell'ottimizzazione, pertanto:\n",
    "$$\\underset{U}{mazimize}\\;tr(U^TS_BU)$$\n",
    "$$tale\\;che\\;U^TS_WU=I$$\n",
    "le cui soluzioni sono similmente ottenute come:\n",
    "$$S_TU=S_WU\\Lambda,$$\n",
    "che è un problema agli autovalori generalizzati $(S_T,S_W)$."
   ]
  },
  {
   "cell_type": "code",
   "execution_count": 31,
   "id": "durable-lounge",
   "metadata": {},
   "outputs": [
    {
     "data": {
      "application/vnd.jupyter.widget-view+json": {
       "model_id": "d98932d807084a5f9d9d95901a62695b",
       "version_major": 2,
       "version_minor": 0
      },
      "text/plain": [
       "Canvas(toolbar=Toolbar(toolitems=[('Home', 'Reset original view', 'home', 'home'), ('Back', 'Back to previous …"
      ]
     },
     "metadata": {},
     "output_type": "display_data"
    },
    {
     "name": "stderr",
     "output_type": "stream",
     "text": [
      "c:\\users\\emanu\\appdata\\local\\programs\\python\\python38\\lib\\site-packages\\numpy\\core\\_asarray.py:171: ComplexWarning: Casting complex values to real discards the imaginary part\n",
      "  return array(a, dtype, copy=False, order=order, subok=True)\n"
     ]
    },
    {
     "data": {
      "application/vnd.jupyter.widget-view+json": {
       "model_id": "2b1672524c3d4218b9ce33b0253874cd",
       "version_major": 2,
       "version_minor": 0
      },
      "text/plain": [
       "Canvas(toolbar=Toolbar(toolitems=[('Home', 'Reset original view', 'home', 'home'), ('Back', 'Back to previous …"
      ]
     },
     "metadata": {},
     "output_type": "display_data"
    },
    {
     "name": "stderr",
     "output_type": "stream",
     "text": [
      "c:\\users\\emanu\\appdata\\local\\programs\\python\\python38\\lib\\site-packages\\numpy\\core\\_asarray.py:102: ComplexWarning: Casting complex values to real discards the imaginary part\n",
      "  return array(a, dtype, copy=False, order=order)\n"
     ]
    }
   ],
   "source": [
    "fda_wine2 = FDA(n_dimensions=2)\n",
    "fda_wine3 = FDA(n_dimensions=3)\n",
    "fda_wine2.fit(X,y)\n",
    "fda_wine3.fit(X,y)\n",
    "Z2m = fda_wine2.transform(X)\n",
    "Z3m = fda_wine3.transform(X)\n",
    "\n",
    "plt.figure(figsize=(8, 6))\n",
    "plt.scatter(Z2m[:num_tosee, 0], Z2m[:num_tosee, 1], c=y[:num_tosee], cmap='turbo')\n",
    "plt.title('WINE - FDA GRAPH WITH 2 DIM WITH {} POINTS'.format(num_tosee))\n",
    "plt.grid()\n",
    "plt.show()\n",
    "\n",
    "fig_winescore = plt.figure(figsize=(8, 6))\n",
    "ax = fig_winescore.add_subplot(111, projection='3d')\n",
    "ax.scatter(Z3m[:num_tosee, 0], Z3m[:num_tosee, 1], Z3m[:num_tosee, 2], c=y[:num_tosee], cmap='turbo')\n",
    "plt.title('WINE - FDA GRAPH WITH 3 DIM WITH {} POINTS'.format(num_tosee))\n",
    "plt.grid()\n",
    "plt.show()"
   ]
  },
  {
   "cell_type": "code",
   "execution_count": 32,
   "id": "local-anger",
   "metadata": {},
   "outputs": [
    {
     "data": {
      "application/vnd.jupyter.widget-view+json": {
       "model_id": "07d4941828f84ad58397f169f0829e8c",
       "version_major": 2,
       "version_minor": 0
      },
      "text/plain": [
       "Canvas(toolbar=Toolbar(toolitems=[('Home', 'Reset original view', 'home', 'home'), ('Back', 'Back to previous …"
      ]
     },
     "metadata": {},
     "output_type": "display_data"
    },
    {
     "data": {
      "text/plain": [
       "Text(0.5, 1.0, 'PCA')"
      ]
     },
     "execution_count": 32,
     "metadata": {},
     "output_type": "execute_result"
    }
   ],
   "source": [
    "# Plot a confronto\n",
    "\n",
    "class_colors = [plt.cm.tab10.colors[c] for c in y[:num_tosee]]\n",
    "\n",
    "# Plot per proiezione in R^2\n",
    "fig2, axs2 = plt.subplots(1, 2, figsize=(8, 3))\n",
    "axs2[0].scatter(Z2m[:num_tosee, 0], Z2m[:num_tosee, 1], c=class_colors, alpha=0.15, cmap='turbo')\n",
    "axs2[0].set_title('FDA')\n",
    "axs2[1].scatter(X_wine_m[:num_tosee,0], X_wine_m[:num_tosee,1], c=class_colors, alpha=0.15, cmap='turbo')\n",
    "axs2[1].set_title('PCA')"
   ]
  },
  {
   "cell_type": "code",
   "execution_count": 33,
   "id": "assumed-directory",
   "metadata": {},
   "outputs": [
    {
     "data": {
      "application/vnd.jupyter.widget-view+json": {
       "model_id": "9f28130a3b2046feb7cd20cf33e504a0",
       "version_major": 2,
       "version_minor": 0
      },
      "text/plain": [
       "Canvas(toolbar=Toolbar(toolitems=[('Home', 'Reset original view', 'home', 'home'), ('Back', 'Back to previous …"
      ]
     },
     "metadata": {},
     "output_type": "display_data"
    },
    {
     "data": {
      "application/vnd.jupyter.widget-view+json": {
       "model_id": "1200c47aa6d34fb78500ed75f37d5a97",
       "version_major": 2,
       "version_minor": 0
      },
      "text/plain": [
       "Canvas(toolbar=Toolbar(toolitems=[('Home', 'Reset original view', 'home', 'home'), ('Back', 'Back to previous …"
      ]
     },
     "metadata": {},
     "output_type": "display_data"
    },
    {
     "data": {
      "text/plain": [
       "Text(0.5, 0.92, 'PCA')"
      ]
     },
     "execution_count": 33,
     "metadata": {},
     "output_type": "execute_result"
    }
   ],
   "source": [
    "# Plot a confronto\n",
    "\n",
    "# Plot per proiezione in R^3\n",
    "fig_Z3m = plt.figure(figsize=(10, 8))\n",
    "ax_Z3m = fig_Z3m.add_subplot(111, projection='3d')\n",
    "ax_Z3m.scatter(Z3m[:num_tosee, 0], Z3m[:num_tosee, 1], Z3m[:num_tosee, 2], c=y[:num_tosee], alpha=0.15, cmap='turbo')\n",
    "plt.title('FDA')\n",
    "\n",
    "fig_Z3p = plt.figure(figsize=(10, 8))\n",
    "ax_Z3p = fig_Z3p.add_subplot(111, projection='3d')\n",
    "ax_Z3p.scatter(X_wine_m[:num_tosee, 0], X_wine_m[:num_tosee, 1], X_wine_m[:num_tosee, 2], c=y[:num_tosee], alpha=0.15, cmap='turbo')\n",
    "plt.title('PCA')"
   ]
  },
  {
   "cell_type": "code",
   "execution_count": 34,
   "id": "basic-collapse",
   "metadata": {},
   "outputs": [
    {
     "data": {
      "application/vnd.jupyter.widget-view+json": {
       "model_id": "4aee5013ddd24b6db6740c4650ba4347",
       "version_major": 2,
       "version_minor": 0
      },
      "text/plain": [
       "Canvas(toolbar=Toolbar(toolitems=[('Home', 'Reset original view', 'home', 'home'), ('Back', 'Back to previous …"
      ]
     },
     "metadata": {},
     "output_type": "display_data"
    },
    {
     "data": {
      "application/vnd.jupyter.widget-view+json": {
       "model_id": "2db1f6810dee488d9da03f758c64a58c",
       "version_major": 2,
       "version_minor": 0
      },
      "text/plain": [
       "Canvas(toolbar=Toolbar(toolitems=[('Home', 'Reset original view', 'home', 'home'), ('Back', 'Back to previous …"
      ]
     },
     "metadata": {},
     "output_type": "display_data"
    }
   ],
   "source": [
    "random_seed = 20210528\n",
    "kpca_wine = KPCA(kernel='poly', degree=2, coef0 = 4, gamma=0.4, random_state=random_seed, fit_inverse_transform=True)\n",
    "#expld_variance_global = np.insert(np.cumsum(kpca_iris.explained_variance_ratio_), 0, 0)\n",
    "Xkpca = kpca_wine.fit_transform(Xscaled[:num_tosee, :])\n",
    "\n",
    "plt.figure(figsize=(8, 6))\n",
    "plt.scatter(Xkpca[:num_tosee, 0], Xkpca[:num_tosee, 1], c=y[:num_tosee], cmap='turbo')\n",
    "plt.title('WINE - KPCA SCORE GRAPH WITH 2 PC')\n",
    "plt.xlabel('PC1')\n",
    "plt.ylabel('PC2')\n",
    "plt.grid()\n",
    "plt.show()\n",
    "\n",
    "\n",
    "fig_winescoreK = plt.figure()\n",
    "ax = fig_winescoreK.add_subplot(111, projection='3d')\n",
    "ax.scatter(Xkpca[:num_tosee, 0], Xkpca[:num_tosee, 1], Xkpca[:num_tosee, 2], c=y[:num_tosee], cmap='turbo')\n",
    "plt.title('WINE - KPCA SCORE GRAPH WITH 3 PC')\n",
    "ax.set_xlabel('PC1')\n",
    "ax.set_ylabel('PC2')\n",
    "ax.set_zlabel('PC3')\n",
    "plt.grid()\n",
    "plt.show()"
   ]
  },
  {
   "cell_type": "code",
   "execution_count": 35,
   "id": "valuable-spelling",
   "metadata": {},
   "outputs": [
    {
     "data": {
      "application/vnd.jupyter.widget-view+json": {
       "model_id": "d3e8493858b149f0a206a558c1747f11",
       "version_major": 2,
       "version_minor": 0
      },
      "text/plain": [
       "Canvas(toolbar=Toolbar(toolitems=[('Home', 'Reset original view', 'home', 'home'), ('Back', 'Back to previous …"
      ]
     },
     "metadata": {},
     "output_type": "display_data"
    }
   ],
   "source": [
    "plt.figure(figsize=(10,8))\n",
    "#plt.plot(np.insert(100*np.cumsum(kpca_bean.lambdas_)/np.sum(kpca_bean.lambdas_), 0, 0))\n",
    "plt.plot(np.insert(100*np.cumsum(kpca_wine.lambdas_)/np.sum(kpca_wine.lambdas_), 0, 0))\n",
    "plt.title('Explained variance of Wine Dataset')\n",
    "plt.xticks(ticks=np.arange(1, np.size(kpca_wine.lambdas_) + 1,10), \n",
    "           labels=[f'PC{i}' for i in range(1, np.size(kpca_wine.lambdas_) + 1,10)])\n",
    "plt.yticks(ticks=np.arange(0, 101, 5))\n",
    "plt.xlabel('Principal components')\n",
    "plt.ylabel('Percentage of cumulative explained variance')\n",
    "plt.grid()\n",
    "plt.show()"
   ]
  },
  {
   "cell_type": "code",
   "execution_count": 36,
   "id": "satisfied-hello",
   "metadata": {},
   "outputs": [
    {
     "data": {
      "text/html": [
       "<div>\n",
       "<style scoped>\n",
       "    .dataframe tbody tr th:only-of-type {\n",
       "        vertical-align: middle;\n",
       "    }\n",
       "\n",
       "    .dataframe tbody tr th {\n",
       "        vertical-align: top;\n",
       "    }\n",
       "\n",
       "    .dataframe thead th {\n",
       "        text-align: right;\n",
       "    }\n",
       "</style>\n",
       "<table border=\"1\" class=\"dataframe\">\n",
       "  <thead>\n",
       "    <tr style=\"text-align: right;\">\n",
       "      <th></th>\n",
       "      <th>mean_fit_time</th>\n",
       "      <th>std_fit_time</th>\n",
       "      <th>mean_score_time</th>\n",
       "      <th>std_score_time</th>\n",
       "      <th>param_coef0</th>\n",
       "      <th>param_degree</th>\n",
       "      <th>param_gamma</th>\n",
       "      <th>param_kernel</th>\n",
       "      <th>params</th>\n",
       "      <th>split0_test_score</th>\n",
       "      <th>...</th>\n",
       "      <th>mean_test_score</th>\n",
       "      <th>std_test_score</th>\n",
       "      <th>rank_test_score</th>\n",
       "      <th>split0_train_score</th>\n",
       "      <th>split1_train_score</th>\n",
       "      <th>split2_train_score</th>\n",
       "      <th>split3_train_score</th>\n",
       "      <th>split4_train_score</th>\n",
       "      <th>mean_train_score</th>\n",
       "      <th>std_train_score</th>\n",
       "    </tr>\n",
       "  </thead>\n",
       "  <tbody>\n",
       "    <tr>\n",
       "      <th>172</th>\n",
       "      <td>0.054158</td>\n",
       "      <td>0.003379</td>\n",
       "      <td>0.004559</td>\n",
       "      <td>0.000798</td>\n",
       "      <td>2</td>\n",
       "      <td>2</td>\n",
       "      <td>0.066667</td>\n",
       "      <td>poly</td>\n",
       "      <td>{'coef0': 2, 'degree': 2, 'gamma': 0.066666666...</td>\n",
       "      <td>-0.817437</td>\n",
       "      <td>...</td>\n",
       "      <td>-0.800432</td>\n",
       "      <td>0.050321</td>\n",
       "      <td>1</td>\n",
       "      <td>-3.970366e-27</td>\n",
       "      <td>-5.082449e-27</td>\n",
       "      <td>-5.438893e-27</td>\n",
       "      <td>-4.773527e-27</td>\n",
       "      <td>-4.327412e-27</td>\n",
       "      <td>-4.718530e-27</td>\n",
       "      <td>5.228972e-28</td>\n",
       "    </tr>\n",
       "    <tr>\n",
       "      <th>216</th>\n",
       "      <td>0.049181</td>\n",
       "      <td>0.003380</td>\n",
       "      <td>0.004148</td>\n",
       "      <td>0.000400</td>\n",
       "      <td>4</td>\n",
       "      <td>2</td>\n",
       "      <td>0.083333</td>\n",
       "      <td>poly</td>\n",
       "      <td>{'coef0': 4, 'degree': 2, 'gamma': 0.083333333...</td>\n",
       "      <td>-0.970466</td>\n",
       "      <td>...</td>\n",
       "      <td>-0.817475</td>\n",
       "      <td>0.087986</td>\n",
       "      <td>2</td>\n",
       "      <td>-5.464408e-26</td>\n",
       "      <td>-7.548223e-26</td>\n",
       "      <td>-9.043889e-26</td>\n",
       "      <td>-8.599250e-26</td>\n",
       "      <td>-6.707588e-26</td>\n",
       "      <td>-7.472672e-26</td>\n",
       "      <td>1.293220e-26</td>\n",
       "    </tr>\n",
       "    <tr>\n",
       "      <th>220</th>\n",
       "      <td>0.049599</td>\n",
       "      <td>0.004135</td>\n",
       "      <td>0.003707</td>\n",
       "      <td>0.000239</td>\n",
       "      <td>4</td>\n",
       "      <td>2</td>\n",
       "      <td>0.066667</td>\n",
       "      <td>poly</td>\n",
       "      <td>{'coef0': 4, 'degree': 2, 'gamma': 0.066666666...</td>\n",
       "      <td>-0.987052</td>\n",
       "      <td>...</td>\n",
       "      <td>-0.818788</td>\n",
       "      <td>0.095433</td>\n",
       "      <td>3</td>\n",
       "      <td>-5.007002e-26</td>\n",
       "      <td>-7.772818e-26</td>\n",
       "      <td>-8.098842e-26</td>\n",
       "      <td>-7.208128e-26</td>\n",
       "      <td>-6.347000e-26</td>\n",
       "      <td>-6.886758e-26</td>\n",
       "      <td>1.111967e-26</td>\n",
       "    </tr>\n",
       "    <tr>\n",
       "      <th>168</th>\n",
       "      <td>0.057281</td>\n",
       "      <td>0.004680</td>\n",
       "      <td>0.003962</td>\n",
       "      <td>0.000631</td>\n",
       "      <td>2</td>\n",
       "      <td>2</td>\n",
       "      <td>0.083333</td>\n",
       "      <td>poly</td>\n",
       "      <td>{'coef0': 2, 'degree': 2, 'gamma': 0.083333333...</td>\n",
       "      <td>-0.896266</td>\n",
       "      <td>...</td>\n",
       "      <td>-0.818876</td>\n",
       "      <td>0.059599</td>\n",
       "      <td>4</td>\n",
       "      <td>-4.022218e-27</td>\n",
       "      <td>-5.062550e-27</td>\n",
       "      <td>-6.705227e-27</td>\n",
       "      <td>-5.020689e-27</td>\n",
       "      <td>-4.741119e-27</td>\n",
       "      <td>-5.110361e-27</td>\n",
       "      <td>8.802637e-28</td>\n",
       "    </tr>\n",
       "    <tr>\n",
       "      <th>212</th>\n",
       "      <td>0.051194</td>\n",
       "      <td>0.002322</td>\n",
       "      <td>0.004588</td>\n",
       "      <td>0.000507</td>\n",
       "      <td>4</td>\n",
       "      <td>2</td>\n",
       "      <td>0.111111</td>\n",
       "      <td>poly</td>\n",
       "      <td>{'coef0': 4, 'degree': 2, 'gamma': 0.111111111...</td>\n",
       "      <td>-1.012505</td>\n",
       "      <td>...</td>\n",
       "      <td>-0.832083</td>\n",
       "      <td>0.099238</td>\n",
       "      <td>5</td>\n",
       "      <td>-7.089627e-26</td>\n",
       "      <td>-8.974315e-26</td>\n",
       "      <td>-1.139157e-25</td>\n",
       "      <td>-1.029510e-25</td>\n",
       "      <td>-9.839870e-26</td>\n",
       "      <td>-9.518097e-26</td>\n",
       "      <td>1.442937e-26</td>\n",
       "    </tr>\n",
       "    <tr>\n",
       "      <th>...</th>\n",
       "      <td>...</td>\n",
       "      <td>...</td>\n",
       "      <td>...</td>\n",
       "      <td>...</td>\n",
       "      <td>...</td>\n",
       "      <td>...</td>\n",
       "      <td>...</td>\n",
       "      <td>...</td>\n",
       "      <td>...</td>\n",
       "      <td>...</td>\n",
       "      <td>...</td>\n",
       "      <td>...</td>\n",
       "      <td>...</td>\n",
       "      <td>...</td>\n",
       "      <td>...</td>\n",
       "      <td>...</td>\n",
       "      <td>...</td>\n",
       "      <td>...</td>\n",
       "      <td>...</td>\n",
       "      <td>...</td>\n",
       "      <td>...</td>\n",
       "    </tr>\n",
       "    <tr>\n",
       "      <th>224</th>\n",
       "      <td>0.089659</td>\n",
       "      <td>0.003536</td>\n",
       "      <td>0.013793</td>\n",
       "      <td>0.000785</td>\n",
       "      <td>4</td>\n",
       "      <td>3</td>\n",
       "      <td>0.166667</td>\n",
       "      <td>poly</td>\n",
       "      <td>{'coef0': 4, 'degree': 3, 'gamma': 0.166666666...</td>\n",
       "      <td>-1234.379532</td>\n",
       "      <td>...</td>\n",
       "      <td>-251.781660</td>\n",
       "      <td>491.367252</td>\n",
       "      <td>236</td>\n",
       "      <td>-1.888085e-15</td>\n",
       "      <td>-1.559502e-13</td>\n",
       "      <td>-6.732692e-13</td>\n",
       "      <td>-4.953957e-13</td>\n",
       "      <td>-6.287917e-13</td>\n",
       "      <td>-3.910590e-13</td>\n",
       "      <td>2.659984e-13</td>\n",
       "    </tr>\n",
       "    <tr>\n",
       "      <th>176</th>\n",
       "      <td>0.098474</td>\n",
       "      <td>0.006432</td>\n",
       "      <td>0.015191</td>\n",
       "      <td>0.001537</td>\n",
       "      <td>2</td>\n",
       "      <td>3</td>\n",
       "      <td>0.166667</td>\n",
       "      <td>poly</td>\n",
       "      <td>{'coef0': 2, 'degree': 3, 'gamma': 0.166666666...</td>\n",
       "      <td>-1934.959244</td>\n",
       "      <td>...</td>\n",
       "      <td>-401.465315</td>\n",
       "      <td>767.194737</td>\n",
       "      <td>237</td>\n",
       "      <td>-6.352877e-16</td>\n",
       "      <td>-7.265932e-15</td>\n",
       "      <td>-2.867680e-14</td>\n",
       "      <td>-1.637348e-14</td>\n",
       "      <td>-6.106996e-14</td>\n",
       "      <td>-2.280429e-14</td>\n",
       "      <td>2.132139e-14</td>\n",
       "    </tr>\n",
       "    <tr>\n",
       "      <th>128</th>\n",
       "      <td>0.101254</td>\n",
       "      <td>0.003551</td>\n",
       "      <td>0.016357</td>\n",
       "      <td>0.001194</td>\n",
       "      <td>1</td>\n",
       "      <td>3</td>\n",
       "      <td>0.166667</td>\n",
       "      <td>poly</td>\n",
       "      <td>{'coef0': 1, 'degree': 3, 'gamma': 0.166666666...</td>\n",
       "      <td>-13238.064983</td>\n",
       "      <td>...</td>\n",
       "      <td>-2665.527533</td>\n",
       "      <td>5286.368696</td>\n",
       "      <td>238</td>\n",
       "      <td>-2.140480e-17</td>\n",
       "      <td>-2.822943e-14</td>\n",
       "      <td>-2.338502e-15</td>\n",
       "      <td>-1.738997e-14</td>\n",
       "      <td>-8.816886e-15</td>\n",
       "      <td>-1.135924e-14</td>\n",
       "      <td>1.036684e-14</td>\n",
       "    </tr>\n",
       "    <tr>\n",
       "      <th>32</th>\n",
       "      <td>0.087679</td>\n",
       "      <td>0.003383</td>\n",
       "      <td>0.014490</td>\n",
       "      <td>0.000662</td>\n",
       "      <td>0.25</td>\n",
       "      <td>3</td>\n",
       "      <td>0.166667</td>\n",
       "      <td>poly</td>\n",
       "      <td>{'coef0': 0.25, 'degree': 3, 'gamma': 0.166666...</td>\n",
       "      <td>-20428.482781</td>\n",
       "      <td>...</td>\n",
       "      <td>-4098.544664</td>\n",
       "      <td>8165.000424</td>\n",
       "      <td>239</td>\n",
       "      <td>-7.487545e-18</td>\n",
       "      <td>-2.562352e-15</td>\n",
       "      <td>-2.180329e-15</td>\n",
       "      <td>-3.544317e-15</td>\n",
       "      <td>-2.793784e-15</td>\n",
       "      <td>-2.217654e-15</td>\n",
       "      <td>1.191386e-15</td>\n",
       "    </tr>\n",
       "    <tr>\n",
       "      <th>80</th>\n",
       "      <td>0.107325</td>\n",
       "      <td>0.003296</td>\n",
       "      <td>0.016559</td>\n",
       "      <td>0.001013</td>\n",
       "      <td>0.5</td>\n",
       "      <td>3</td>\n",
       "      <td>0.166667</td>\n",
       "      <td>poly</td>\n",
       "      <td>{'coef0': 0.5, 'degree': 3, 'gamma': 0.1666666...</td>\n",
       "      <td>-26844.061251</td>\n",
       "      <td>...</td>\n",
       "      <td>-5385.726516</td>\n",
       "      <td>10729.210820</td>\n",
       "      <td>240</td>\n",
       "      <td>-2.178027e-17</td>\n",
       "      <td>-2.177545e-14</td>\n",
       "      <td>-1.182070e-15</td>\n",
       "      <td>-9.522357e-15</td>\n",
       "      <td>-7.816944e-15</td>\n",
       "      <td>-8.063721e-15</td>\n",
       "      <td>7.774704e-15</td>\n",
       "    </tr>\n",
       "  </tbody>\n",
       "</table>\n",
       "<p>240 rows × 24 columns</p>\n",
       "</div>"
      ],
      "text/plain": [
       "     mean_fit_time  std_fit_time  mean_score_time  std_score_time param_coef0  \\\n",
       "172       0.054158      0.003379         0.004559        0.000798           2   \n",
       "216       0.049181      0.003380         0.004148        0.000400           4   \n",
       "220       0.049599      0.004135         0.003707        0.000239           4   \n",
       "168       0.057281      0.004680         0.003962        0.000631           2   \n",
       "212       0.051194      0.002322         0.004588        0.000507           4   \n",
       "..             ...           ...              ...             ...         ...   \n",
       "224       0.089659      0.003536         0.013793        0.000785           4   \n",
       "176       0.098474      0.006432         0.015191        0.001537           2   \n",
       "128       0.101254      0.003551         0.016357        0.001194           1   \n",
       "32        0.087679      0.003383         0.014490        0.000662        0.25   \n",
       "80        0.107325      0.003296         0.016559        0.001013         0.5   \n",
       "\n",
       "    param_degree param_gamma param_kernel  \\\n",
       "172            2    0.066667         poly   \n",
       "216            2    0.083333         poly   \n",
       "220            2    0.066667         poly   \n",
       "168            2    0.083333         poly   \n",
       "212            2    0.111111         poly   \n",
       "..           ...         ...          ...   \n",
       "224            3    0.166667         poly   \n",
       "176            3    0.166667         poly   \n",
       "128            3    0.166667         poly   \n",
       "32             3    0.166667         poly   \n",
       "80             3    0.166667         poly   \n",
       "\n",
       "                                                params  split0_test_score  \\\n",
       "172  {'coef0': 2, 'degree': 2, 'gamma': 0.066666666...          -0.817437   \n",
       "216  {'coef0': 4, 'degree': 2, 'gamma': 0.083333333...          -0.970466   \n",
       "220  {'coef0': 4, 'degree': 2, 'gamma': 0.066666666...          -0.987052   \n",
       "168  {'coef0': 2, 'degree': 2, 'gamma': 0.083333333...          -0.896266   \n",
       "212  {'coef0': 4, 'degree': 2, 'gamma': 0.111111111...          -1.012505   \n",
       "..                                                 ...                ...   \n",
       "224  {'coef0': 4, 'degree': 3, 'gamma': 0.166666666...       -1234.379532   \n",
       "176  {'coef0': 2, 'degree': 3, 'gamma': 0.166666666...       -1934.959244   \n",
       "128  {'coef0': 1, 'degree': 3, 'gamma': 0.166666666...      -13238.064983   \n",
       "32   {'coef0': 0.25, 'degree': 3, 'gamma': 0.166666...      -20428.482781   \n",
       "80   {'coef0': 0.5, 'degree': 3, 'gamma': 0.1666666...      -26844.061251   \n",
       "\n",
       "     ...  mean_test_score  std_test_score  rank_test_score  \\\n",
       "172  ...        -0.800432        0.050321                1   \n",
       "216  ...        -0.817475        0.087986                2   \n",
       "220  ...        -0.818788        0.095433                3   \n",
       "168  ...        -0.818876        0.059599                4   \n",
       "212  ...        -0.832083        0.099238                5   \n",
       "..   ...              ...             ...              ...   \n",
       "224  ...      -251.781660      491.367252              236   \n",
       "176  ...      -401.465315      767.194737              237   \n",
       "128  ...     -2665.527533     5286.368696              238   \n",
       "32   ...     -4098.544664     8165.000424              239   \n",
       "80   ...     -5385.726516    10729.210820              240   \n",
       "\n",
       "     split0_train_score  split1_train_score  split2_train_score  \\\n",
       "172       -3.970366e-27       -5.082449e-27       -5.438893e-27   \n",
       "216       -5.464408e-26       -7.548223e-26       -9.043889e-26   \n",
       "220       -5.007002e-26       -7.772818e-26       -8.098842e-26   \n",
       "168       -4.022218e-27       -5.062550e-27       -6.705227e-27   \n",
       "212       -7.089627e-26       -8.974315e-26       -1.139157e-25   \n",
       "..                  ...                 ...                 ...   \n",
       "224       -1.888085e-15       -1.559502e-13       -6.732692e-13   \n",
       "176       -6.352877e-16       -7.265932e-15       -2.867680e-14   \n",
       "128       -2.140480e-17       -2.822943e-14       -2.338502e-15   \n",
       "32        -7.487545e-18       -2.562352e-15       -2.180329e-15   \n",
       "80        -2.178027e-17       -2.177545e-14       -1.182070e-15   \n",
       "\n",
       "     split3_train_score  split4_train_score  mean_train_score  std_train_score  \n",
       "172       -4.773527e-27       -4.327412e-27     -4.718530e-27     5.228972e-28  \n",
       "216       -8.599250e-26       -6.707588e-26     -7.472672e-26     1.293220e-26  \n",
       "220       -7.208128e-26       -6.347000e-26     -6.886758e-26     1.111967e-26  \n",
       "168       -5.020689e-27       -4.741119e-27     -5.110361e-27     8.802637e-28  \n",
       "212       -1.029510e-25       -9.839870e-26     -9.518097e-26     1.442937e-26  \n",
       "..                  ...                 ...               ...              ...  \n",
       "224       -4.953957e-13       -6.287917e-13     -3.910590e-13     2.659984e-13  \n",
       "176       -1.637348e-14       -6.106996e-14     -2.280429e-14     2.132139e-14  \n",
       "128       -1.738997e-14       -8.816886e-15     -1.135924e-14     1.036684e-14  \n",
       "32        -3.544317e-15       -2.793784e-15     -2.217654e-15     1.191386e-15  \n",
       "80        -9.522357e-15       -7.816944e-15     -8.063721e-15     7.774704e-15  \n",
       "\n",
       "[240 rows x 24 columns]"
      ]
     },
     "metadata": {},
     "output_type": "display_data"
    }
   ],
   "source": [
    "def my_scorer(estimator, X, y=None):\n",
    "    X_reduced = estimator.transform(X)\n",
    "    X_preimage = estimator.inverse_transform(X_reduced)\n",
    "    return -1 * mean_squared_error(X, X_preimage)\n",
    "\n",
    "n_features = data.shape[1]\n",
    "ker_list = ['poly','linear','rbf', 'cosine']\n",
    "gamma_list = [1/(i*n_features) for i in np.arange(0.5, 1.5, 0.25)]\n",
    "deg_list = [i for i in np.arange(1,4,1)]\n",
    "coef_list = [2**i for i in range(-2,3)]\n",
    "\n",
    "hparameters = {'kernel':ker_list, 'coef0':coef_list, 'gamma':gamma_list, 'degree':deg_list}\n",
    "kpca = KPCA(n_components=3, fit_inverse_transform=True)\n",
    "\n",
    "wine_kpca_GS = GridSearchCV(estimator=kpca, \n",
    "                      param_grid=hparameters, \n",
    "                      scoring=my_scorer,\n",
    "                      return_train_score=True)\n",
    "wine_kpca_GS.fit(Xscaled[:num_tosee, :])\n",
    "df_results = pd.DataFrame(wine_kpca_GS.cv_results_)\n",
    "#indices = [0, 1, 2, 3, 4, 5, 6, 7, 8, 16]\n",
    "#df = df_results.iloc[:, indices]\n",
    "display(df_results.sort_values(['rank_test_score'], ascending=True))"
   ]
  },
  {
   "cell_type": "code",
   "execution_count": 37,
   "id": "congressional-liabilities",
   "metadata": {},
   "outputs": [
    {
     "data": {
      "application/vnd.jupyter.widget-view+json": {
       "model_id": "26379c98a4ef46ad91566f104e2fba4d",
       "version_major": 2,
       "version_minor": 0
      },
      "text/plain": [
       "Canvas(toolbar=Toolbar(toolitems=[('Home', 'Reset original view', 'home', 'home'), ('Back', 'Back to previous …"
      ]
     },
     "metadata": {},
     "output_type": "display_data"
    },
    {
     "data": {
      "application/vnd.jupyter.widget-view+json": {
       "model_id": "0c144b02304b47e19c5535cb251cd709",
       "version_major": 2,
       "version_minor": 0
      },
      "text/plain": [
       "Canvas(toolbar=Toolbar(toolitems=[('Home', 'Reset original view', 'home', 'home'), ('Back', 'Back to previous …"
      ]
     },
     "metadata": {},
     "output_type": "display_data"
    }
   ],
   "source": [
    "wine_kpca_GS.best_estimator_.fit(Xscaled[:num_tosee, :])\n",
    "X_wine_K = wine_kpca_GS.transform(Xscaled[:num_tosee, :])\n",
    "\n",
    "plt.figure(figsize=(8, 6))\n",
    "plt.scatter(X_wine_K[:num_tosee, 0], X_wine_K[:num_tosee, 1], c=y[:num_tosee], cmap='turbo')\n",
    "plt.title('WINE - KPCA SCORE GRAPH WITH 2 PCA WITH {} POINTS'.format(num_tosee))\n",
    "plt.xlabel('PC1')\n",
    "plt.ylabel('PC2')\n",
    "plt.grid()\n",
    "plt.show()\n",
    "\n",
    "fig_winescore = plt.figure(figsize=(8, 6))\n",
    "ax = fig_winescore.add_subplot(111, projection='3d')\n",
    "ax.scatter(X_wine_K[:num_tosee, 0], X_wine_K[:num_tosee, 1], X_wine_K[:num_tosee, 2], c=y[:num_tosee], cmap='turbo')\n",
    "plt.title('WINE - KPCA SCORE GRAPH WITH 3 PCA WITH {} POINTS'.format(num_tosee))\n",
    "ax.set_xlabel('PC1')\n",
    "ax.set_ylabel('PC2')\n",
    "ax.set_zlabel('PC3')\n",
    "plt.grid()\n",
    "plt.show()"
   ]
  },
  {
   "cell_type": "markdown",
   "id": "modified-double",
   "metadata": {},
   "source": [
    "# Appendice sugli RKHS"
   ]
  },
  {
   "cell_type": "markdown",
   "id": "ordered-steering",
   "metadata": {},
   "source": [
    "## 1. REPRODUCING KERNEL HILBERT SPACES\n",
    "### 1.1 _Definizione di funzionale di valutazione di Dirac_\n",
    "Sia $ \\mathbb{H} $ lo spazio $ \\mathbb{L}_2 (X) $ di funzioni da $X$ in $\\mathbb{R}$ per qualche insieme non vuoto $X$. Si definisce il __funzionale di valutazione di Dirac in $x$__ il funzionale $\\delta_x$ tale che $$ \\delta_x : \\mathbb{H} \\to \\mathbb{R}\\quad \\text{tale che}\\quad\\delta_x (f) = f(x) $$\n",
    "$\\delta_x$ è continuo se esiste una costante $M>0$, $M \\in \\mathbb{R}$ tale che $$ \\lvert\\lvert{\\delta_x (f)\\rvert\\rvert}_{\\mathbb{L}_2} = \\lvert{f(x)\\rvert} \\leq M \\lvert\\lvert{f\\rvert\\rvert}_{\\mathbb{L}_2} \\quad \\forall f \\in \\mathbb{H}, \\quad \\forall x \\in \\mathbb{R}^n $$\n",
    "\n",
    "### 1.2 _Definizione di RKHS_\n",
    "Un __RKHS__ (Reproducing Kernel Hilbert Space) è uno spazio di Hilbert in cui ogni funzionale di valutazione di Dirac è continuo.\n",
    "\n",
    "### 1.3 _Teorema di rappresentazione di Riesz_\n",
    "Sia $\\mathbb{H}$ uno spazio di Hilbert. Allora per ogni funzionale lineare e continuo $\\Phi$ su $\\mathbb{H}$, esiste ed è unico un elemento $u$ di $\\mathbb{H}$ tale che $$ \\Phi (f) = \\langle f, u \\rangle_{\\mathbb{H}} $$\n",
    "\n",
    "Nel caso dei funzionali di valutazione di Dirac, se siamo in un RKHS allora per ogni $\\delta_x$ esiste ed è unico $k_x \\in \\mathbb{H}$ tale che $$ \\delta_x (f) = f(x) = \\langle f, k_x \\rangle_{\\mathbb{H}} $$\n",
    "$k_x$ viene detto __representer in $x$__.\n",
    "\n",
    "### 1.4 _Definizione di Reproducing Kernel_\n",
    "Sia $\\mathbb{H}$ uno spazio di Hilbert di funzioni da $X$ in $\\mathbb{R}$ con $X$ insieme non vuoto. Una funzione $\\mathcal{K} : X \\times X \\to \\mathbb{R}$ si dice __Reproducing Kernel__ di $\\mathbb{H}$ se soddisfa:\n",
    "* $\\forall x \\in X \\quad k_x = \\mathcal{K}(\\cdot,x) \\in \\mathbb{H}$, $k_x$ si dice __representer in $x$__\n",
    "* $\\mathcal{K}(x,x) < \\infty \\quad \\forall x \\in X$\n",
    "* $\\forall x \\in X, \\forall f \\in \\mathbb{H} \\quad \\langle f, \\mathcal{K}(\\cdot,x) \\rangle = f(x)$ (__Reproducing Property__)\n",
    "\n",
    "Osserviamo che $k_x \\in \\mathbb{H}$ è una funzione da $X$ in $\\mathbb{R}$ tale che $k_x (y) = \\mathcal{K}(x,y)$\n",
    "In particolare, per ogni $x,y \\in X$ $$ \\langle k_x, k_y \\rangle_{\\mathbb{H}} = \\langle \\mathcal{K}(\\cdot,x), \\mathcal{K}(\\cdot,y) \\rangle_{\\mathbb{H}} = \\mathcal{K}(x,y) = \\mathcal{K}(y,x) $$ dove $k_x, k_y$ sono rispettivamente i representer di $\\delta_x, \\delta_y$. Segue chiaramente che $\\mathcal{K}$ è simmetrico e definito positivo, perche discende dal prodotto scalare su $\\mathbb{H}$.\n",
    "\n",
    "Chiaramente se $k_x \\in \\mathbb{H} \\;\\; \\forall x \\in X$, allora $\\textbf{span}\\{ k_x : x \\in X \\} \\subseteq \\mathbb{H}$, quindi se $f = \\sum_{j=1}^N \\alpha_j \\mathcal{K}(\\cdot,x_j)$ con $x_j \\in X$, allora $$ \\vert\\vert f \\vert\\vert_{\\mathbb{H}}^2 = \\sum_{j=1}^N \\sum_{i=1}^N \\alpha_j \\alpha_i \\langle \\mathcal{K}(\\cdot, x_j),\\mathcal{K}(\\cdot, x_i) \\rangle_{\\mathbb{H}} = \\sum_{j=1}^N\\sum_{i=1}^N \\alpha_j \\alpha_i \\mathcal{K}(x_j, x_i) $$\n",
    "\n",
    "### 1.5 _Teorema di unicità_\n",
    "Se esiste, il reproducing kernel $\\mathcal{K}$ per uno spazio di Hilbert $\\mathbb{H}$ è unico.\n",
    "##### _Dimostrazione_\n",
    "Assumiamo che $\\mathbb{H}$ abbia due Reproducing Kernel $\\mathcal{K}_1$ e $\\mathcal{K}_2$. Allora $$ \\langle f, \\mathcal{K}_1 (\\cdot, x) - \\mathcal{K}_2 (\\cdot, x) \\rangle = f(x) - f(x) = 0 \\quad \\forall f \\in \\mathbb{H},\\; \\forall x \\in X $$\n",
    "In particolare, se prendiamo $f = \\mathcal{K}_1 (\\cdot, x) - \\mathcal{K}_2 (\\cdot, x)$ otteniamo $$ \\vert\\vert \\mathcal{K}_1 (\\cdot, x) - \\mathcal{K}_2 (\\cdot, x) \\vert\\vert_{\\mathbb{H}}^2 = 0 \\;\\; \\forall x \\in X \\implies \\mathcal{K}_1 = \\mathcal{K}_2 $$\n",
    "\n",
    "### 1.6 _Equivalenza tra Reproducing Kernel e $\\delta_x$ limitato_\n",
    "Sia $\\mathbb{H}$ uno spazio di Hilbert di funzioni $f : X \\to\\mathbb{R}$. Allora gli operatori di valutazione $\\delta_x$ sono funzionali limitati e continui $\\iff$ $\\mathbb{H}$ ha un Reproducing Kernel $\\mathcal{K}$\n",
    "##### _dimostrazione_\n",
    "$( \\Longleftarrow )$ Poiché $\\mathbb{H}$ è uno spazio di Hilbert con Reproducing Kernel $\\mathcal{K}$, allora $$ | \\delta_x f | = | f(x) | = | \\langle f, \\mathcal{K} (\\cdot, x) \\rangle_{\\mathbb{H}} | \\leq || \\mathcal{K}(\\cdot, x ) ||_{\\mathbb{H}} || f ||_{\\mathbb{H}} = \\langle \\mathcal{K}(\\cdot, x), \\mathcal{K}(\\cdot, x) \\rangle_{\\mathbb{H}}^{\\frac{1}{2}} || f ||_{\\mathbb{H}} = \\mathcal{K}(x,x)^{\\frac{1}{2}} || f ||_{\\mathbb{H}} $$\n",
    "$ \\implies $ $\\delta_x : \\mathbb{H} \\to \\mathbb{R}$ è un operatore lineare e limitato.\n",
    "\n",
    "$ ( \\Longrightarrow ) $ Supponiamo che $\\delta_x : \\mathbb{H} \\to \\mathbb{R}$ sia un funzionale lineare e limitato.\n",
    "Allora per il teorema di rappresentazione di Riesz $\\implies$ $\\exists f_{\\delta_x} \\in \\mathbb{H}$ tale che $\\delta_x f = \\langle f, f_{\\delta_x} \\rangle_{\\mathbb{H}}\\;\\; \\forall f \\in \\mathbb{H} $. Definiamo $\\mathcal{K} (x', x) = f_{\\delta_x} (x') \\quad \\forall x, x' \\in X$. Allora $$ \\mathcal{K} (\\cdot, x) = f_{\\delta_x} \\;\\; \\text{e}\\;\\; \\langle f, \\mathcal{K} (\\cdot, x) \\rangle_{\\mathbb{H}} = \\delta_x f = f(x) $$\n",
    "$\\implies$ $\\mathcal{K}$ è un Reproducing Kernel per $\\mathbb{H}$\n",
    "\n",
    "### 1.7 _Definizione di Kernel_\n",
    "Una funzione $\\mathcal{K} : X \\times X \\to \\mathbb{R} $ si dice __Kernel__ su un insieme non vuoto $X$ se esiste uno spazio di Hilbert $\\mathbb{H}$ (non necessariamente RKHS) e una mappa $\\Phi : X \\to \\mathbb{H}$, tale che $$ \\mathcal{K}(x,y) = \\langle \\Phi(x), \\Phi(y) \\rangle_{\\mathbb{H}} $$\n",
    "$\\Phi$ è chiamata __Feature Map__, e $\\mathbb{H}$ è chiamato __Feature Space__\n",
    "\n",
    "Si dimostra che ogni Reproducing Kernel è anche un Kernel. \n",
    "Basta prendere come $\\Phi$ la funzione che manda $ x \\mapsto \\mathcal{K}(\\cdot,x) = k_x$, con $k_x \\in \\mathbb{H}$ e quindi $\\mathcal{K}(x,y) = \\langle \\mathcal{K},\\mathcal{K}(\\cdot, y) \\rangle_{\\mathbb{H}}$. Allora il RKHS $\\mathbb{H}$ è il Feature Space.\n",
    "__N.B.__ Non vale il viceversa, in quanto verrebbe meno l'unicità.\n",
    "\n",
    "Un Kernel $\\mathcal{K}$ può essere visto come una matrice di infinite dimensioni, ma nonostante questo esistono due diverse definizioni di Kernel definito positivo, equivalenti nel caso di Kernel continui.\n",
    "\n",
    "#### 1.7.1 _Kernel definito positivo_\n",
    "Un Kernel simmetrico $\\mathcal{K} : X \\times X \\to \\mathbb{R}$ si dice __(semi-)definito positivo__ su $X$ se la sua matrice di kernel associata $(\\mathcal{K})_{i,j} = \\mathcal{K}(x_i, x_j)_{i,j=1}^N$ è (semi-)definita positiva $\\forall N \\in \\mathbb{N}$ e per ogni insieme di punti distinti $\\{ x_1, \\ldots, x_N \\} \\subset X$.\n",
    "\n",
    "#### 1.7.2 _Kernel integralmente definito positivo_\n",
    "Un Kernel simmetrico $\\mathcal{K} : X \\times X \\to \\mathbb{R}$ si dice __semi-definito positivo in $\\mathbb{L}_2$__ se per ogni funzione $f \\in \\mathbb{L}_2$ si ha che $$ \\int_X \\int_X f(x) \\mathcal{K}(x,x') f(x') dx dx' \\geq 0 $$\n",
    "ed si dice __definito positivo in $\\mathbb{L}_2$__ se l'integrale è uguale a $0$ $\\iff$ $f \\equiv 0$ quasi ovunque.\n",
    "\n",
    "#### 1.8 _Teorema_\n",
    "Ogni Kernel è una funzione semi-definita positiva.\n",
    "\n",
    "##### _Dimostrazione_\n",
    "Siano $\\{ x_1, \\ldots, x_N \\} \\subset X$ distinti e $c \\in \\mathbb{R}^N$. Abbiamo che \n",
    "$$ \\sum_{i=1}^N \\sum_{j=1}^N c_i c_j \\mathcal{K} (x_i, x_j) =\\sum_{i=1}^N \\sum_{j=1}^N c_i c_j \\langle \\phi (x_i), \\phi (x_j) \\rangle_{\\mathbb{H}} =\\bigg\\langle \\sum_{i=1}^N c_i \\phi (x_i), \\sum_{j=1}^N c_j \\phi (x_j) \\bigg\\rangle_{\\mathbb{H}} = \\bigg|\\bigg| \\sum_{i=1}^N c_i \\phi (x_i) \\bigg|\\bigg|_{\\mathbb{H}}^2 \\geq 0$$\n",
    "Reproducing Kernel $\\implies$ Kernel $\\implies$ funzione semi-definita positiva\n",
    "\n",
    "Un primo modo per costruire un RKHS a partire da un Kernel e dato dal seguente risultato\n",
    "### 1.9 _Teorema di Moore-Aronszajn_\n",
    "Sia $\\mathcal{K} : X \\times X \\to \\mathbb{R}$ un kernel definito positivo. Allora esiste ed è unico (a meno di isomorfismi) un RKHS $\\mathbb{H}_{\\mathcal{K}} \\in \\mathbb{R}^X$ con Reproducing Kernel $\\mathcal{K}$.\n",
    "\n",
    "##### _Dimostrazione Teorema_\n",
    "Per ipotesi $\\mathcal{K}$ è un Kernel definito positivo. Definiamo $\\mathbb{H}_0 = \\textbf{span} \\{ k_x : x \\in X \\}$, per cui ogni elemento di $\\mathbb{H}_0$ può essere scritto come $\\sum_i \\alpha_i k_{x_i} = \\sum_i \\alpha_i \\mathcal{K}(\\cdot, x_i) $, e ci definiamo una forma bilineare $$ \\langle f_1, f_2 \\rangle_{\\mathcal{K}} = \\bigg\\langle \\sum_{i=1}^N \\alpha_i \\mathcal{K}(\\cdot, x_i), \\sum_{j=1}^N \\beta_j \\mathcal{K}(\\cdot, y_j) \\bigg\\rangle_{\\mathcal{K}} =\\sum_{i=1}^N \\sum_{j=1}^N \\alpha_i \\beta_j \\mathcal{K} (x_i, y_j) $$\n",
    "##### 1.9.1 _Lemma_\n",
    "Se $\\mathcal{K} : X \\times X \\to \\mathbb{R}$ è un Kernel simmetrico definito positivo $\\implies$ $\\langle \\cdot, \\cdot \\rangle_{\\mathcal{K}}$ definisce un prodotto interno su $\\mathbb{H}_0$. Inoltre $\\mathbb{H}_0$ è uno spazio pre-hilbertiano con Reproducing Kernel $\\mathcal{K}$.\n",
    "##### _Dimostrazione Lemma_\n",
    "Ovviamente $\\langle \\cdot, \\cdot \\rangle_{\\mathcal{K}}$ è bilineare e simmetrico. Inoltre, se consideriamo una qualsiasi funzione $f = \\sum_{j=1}^N \\alpha_j \\mathcal{K}(\\cdot, x_j) \\not= 0$ in $\\mathbb{H}_0$, troviamo che $$ \\langle f, f \\rangle_{\\mathcal{K}} = \\sum_{j = 1}^N \\sum_{k = 1}^N \\alpha_j \\alpha_k \\mathcal{K} (x_j, x_k) > 0 $$\n",
    "perché per ipotesi $\\mathcal{K}$ è definito positivo. Infine otteniamo che $$ \\langle f, \\mathcal{K}(\\cdot, y) \\rangle_{\\mathcal{K}} = \\sum_{j=1}^N \\alpha_j \\mathcal{K} (x_j, y) = f(y) $$\n",
    "$\\implies$ $\\mathbb{H}_0$ è uno spazio pre-hilbertiano con Reproducing Kernel $\\mathcal{K}$.\n",
    "\n",
    "Notiamo però che $\\mathbb{H}_0$ non è necessariamente completo, per cui cerchiamo di farne il completamento. Definiamo quindi $\\mathbb{H}_{\\mathcal{K}}$ come lo spazio di funzioni $f \\in \\mathbb{R}^X$ per esiste una sequenza $\\{ f_n \\}$ di Cauchy in $\\mathbb{H}_0$. Fissiamo $x \\in X$ e consideriamo $$ | f_n (x) - f_m (x) | = | \\langle \\mathcal{K}(x,\\cdot), f_n - f_m \\rangle | \\leq || \\mathcal{K} (x,\\cdot) ||_{\\mathbb{H}_0} || f_n - f_m ||_{\\mathbb{H}_0} = \\langle \\mathcal{K}(x,\\cdot), \\mathcal{K}(x,\\cdot) \\rangle^{\\frac{1}{2}}_{\\mathbb{H}_0} || f_n - f_m ||_{\\mathbb{H}_0} = \\mathcal{K}(x,x)^{\\frac{1}{2}} || f_n - f_m ||_{\\mathbb{H}_0} $$ \n",
    "Per definizione sappiamo che $\\mathcal{K}(x,x) < \\infty \\;\\; \\forall x \\in X$, da cui segue che $\\{ f_n (x) \\}$ è una successione limitata di Cauchy in $\\mathbb{R}$, che è completo $\\implies$ esiste $f(x) = \\lim f_n (x)$. Allora aggiungiamo a $\\mathbb{H}_0$ tutte le funzioni così definite per ottenere $\\mathbb{H}_{\\mathcal{K}}$, per cui infine $\\forall x \\in X$ abbiamo che \n",
    "$$ f(x) = \\lim_{n \\to \\infty} f_n (x) = \\lim_{n \\to \\infty} \\langle f_n, \\mathcal{K}(\\cdot,x) \\rangle_{\\mathbb{H}_0} = \\langle f, \\mathcal{K}(\\cdot,x) \\rangle_{\\mathbb{H}_{\\mathcal{K}}} $$ per cui $\\mathcal{K}$ e' il Reproducing Kernel di $\\mathbb{H}_{\\mathcal{K}}$.\n",
    "\n",
    "Un'altra costruzione di RKHS a partire da un Kernel viene data in termini di autofunzioni associate all'operatore con nucleo integrale definito da $$ T_{\\mathcal{K}}(q)(x) = \\int_X \\mathcal{K}(x,y) q(y) dy \\quad q \\in \\mathbb{L}_2 (X), \\; x \\in X $$\n",
    "Affinche questo operatore sia ben definito, e necessario che la norma in $\\mathbb{L}_2 (X)$ sia finita $$ \\int \\int \\mathcal{K}^2 (x,x') dx dx' < \\infty \\implies \\mathcal{K}(\\cdot,x) \\in \\mathbb{L}_2 (X) $$\n",
    "Questa proprieta si dice __traccia finita__.\n",
    "### 1.10 _Teorema di Mercer_\n",
    "Sia $\\mathcal{K}$ un Kernel definito positivo, continuo e con traccia finita. Sia $T_{\\mathcal{K}}$ l'operatore con nucleo integrale definito sopra, che sappiamo essere ben definito. Allora esiste una sequenza infinita di autofunzioni $\\{ \\phi_i \\}_{i =0}^{\\infty} $ e di autovalori $\\{ \\lambda_i \\}_{i=0}^{\\infty}$ di $T_{\\mathcal{K}}$, con $\\lambda_1 \\geq \\lambda_2 \\geq \\ldots$ tale che $\\mathcal{K}$ puo essere scritto come $$ \\mathcal{K} (x,x') = \\sum_{i = 0}^{\\infty} \\lambda_i \\phi_i (x) \\phi_i (x') $$\n",
    "\n",
    "Questo risultato permette di costruire un RKHS $\\mathbb{H}_{\\mathcal{K}}$ in questo modo: $$ \\mathbb{H}_{\\mathcal{K}} := \\bigg\\{ f : f = \\sum_{i = 0}^{\\infty} c_i \\phi_i \\bigg\\} $$\n",
    "Chiaramente $f \\in \\mathbb{L}_2$, per cui i coefficienti saranno dati da $$ f_i = \\langle f, \\phi_i \\rangle_{\\mathbb{L}_2} = \\int f(x) \\phi_i (x) dx $$\n",
    "E' un risultato base dell'analisi di Fourier che tale rappresentazione esiste ed e' unica.\n",
    "\n",
    "Dato cio', possiamo ora definire il prodotto interno su $\\mathbb {H}_{\\mathcal{K}}$:\n",
    "$$\\langle f,g \\rangle_{\\mathbb{H}_{\\mathcal{K}}} = \\sum_{i=0}^{\\infty} \\frac{f_i g_i}{\\lambda_i}$$\n",
    "dove abbiamo usato la $\\mathbb{H}_{\\mathcal{K}}$-ortogonalita' $\\langle \\phi_j, \\phi_k \\rangle_{\\mathbb{H}_{\\mathcal{K}}} = \\cfrac{\\delta_{j,k}}{\\sqrt{\\lambda_j}\\sqrt{\\lambda_k}}$ delle autofunzioni.\n",
    "\n",
    "__Nota:__ $\\mathcal{K}$ e' il reproducing kernel di $\\mathbb{H}_{\\mathcal{K}}$ dato che l'espansione in autofunzioni di $\\mathcal{K}$, data dal _Teorema di Mercer_, e l'ortogonalita' delle autofunzioni implicano che $$\\langle f,\\mathcal{K}(\\cdot,x)\\rangle_{\\mathbb{H}_{\\mathcal{K}}} = \\bigg\\langle\\sum_{j=0}^\\infty c_j\\phi_j, \\sum_{j=0}^\\infty \\lambda_i \\phi_i \\phi_i(x)\\bigg\\rangle_{\\mathbb{H}_{\\mathcal{K}}} = \\sum_{i=0}^\\infty \\cfrac{c_i\\lambda_i\\phi_i(x)}{\\lambda_i} = \\sum_{i=0}^\\infty c_i\\phi_i(x) = f(x)$$\n",
    "\n",
    "### 1.11 _Kernel trick_\n",
    "Dato un kernel $\\mathcal{K}$ esiste una feature map associata $\\Phi : X\\to\\mathbb{H}$ tale che\n",
    "$$\\mathcal{K}(x,x') = \\langle \\Phi(x),\\Phi(x')\\rangle_{\\mathbb{H}}$$\n",
    "per esempio dato un kernel $\\mathcal{K}$ esiste una funzione $\\Phi$ tale che la valutazione del kernel nei punti $x$ e $x'$ e' equivalente a prendere il profotto scalare tra $\\Phi(x)$ $\\Phi(x')$ in alcuni (forse sconosciuti) spazi di Hilbert.\n",
    "\n",
    "Questo ci da' la possibilita' di utilizzare il _kernel trick_, nel quale trasformiamo gli input in $\\mathbb{H}$ usando $\\Phi$ e quindi prendiamo il prodotto scalare come prima.\n",
    "\n",
    "Abbiamo visto come costruire un _RKHS_ $\\mathbb{H}$ partendo da un kernel definito positivo e che $\\mathbb{H}_{\\mathcal{K}}$ e' unico a meno di isomorfismi.\n",
    "\n",
    "Questo significa che $\\Phi$ non e' unico in modo assoluto, ma lo e' preso $\\mathbb{H}$."
   ]
  },
  {
   "cell_type": "code",
   "execution_count": null,
   "id": "realistic-precipitation",
   "metadata": {},
   "outputs": [],
   "source": []
  },
  {
   "cell_type": "code",
   "execution_count": null,
   "id": "peaceful-zealand",
   "metadata": {},
   "outputs": [],
   "source": []
  },
  {
   "cell_type": "code",
   "execution_count": null,
   "id": "amended-stevens",
   "metadata": {},
   "outputs": [],
   "source": []
  }
 ],
 "metadata": {
  "kernelspec": {
   "display_name": "Python 3",
   "language": "python",
   "name": "python3"
  },
  "language_info": {
   "codemirror_mode": {
    "name": "ipython",
    "version": 3
   },
   "file_extension": ".py",
   "mimetype": "text/x-python",
   "name": "python",
   "nbconvert_exporter": "python",
   "pygments_lexer": "ipython3",
   "version": "3.8.0"
  }
 },
 "nbformat": 4,
 "nbformat_minor": 5
}
